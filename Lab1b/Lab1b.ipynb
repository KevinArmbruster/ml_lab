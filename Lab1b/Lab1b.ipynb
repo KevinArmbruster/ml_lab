{
 "cells": [
  {
   "cell_type": "code",
   "execution_count": 10,
   "outputs": [],
   "source": [
    "import numpy.random as random\n",
    "import numpy as np\n",
    "import pandas as pd\n",
    "from IPython.core.display_functions import display\n",
    "import matplotlib.pylab as plt\n"
   ],
   "metadata": {
    "collapsed": false,
    "pycharm": {
     "name": "#%%\n"
    }
   }
  },
  {
   "cell_type": "code",
   "execution_count": 10,
   "outputs": [
    {
     "data": {
      "text/plain": "        0         1         2         3         4         5         6    \\\n0  1.892654  1.084616 -0.111777  1.230013  0.235704  0.905172  0.493711   \n1  0.460128 -0.407167 -0.132358 -0.348271  0.443717  0.581203 -0.488681   \n2  1.000000  1.000000  1.000000  1.000000  1.000000  1.000000  1.000000   \n\n        7         8         9    ...       190       191       192       193  \\\n0  1.594008  1.314981  0.733770  ... -1.254167 -0.338942 -0.760977 -0.962425   \n1  0.752363  0.746750  0.736333  ...  0.244792  0.500727 -0.601116  0.540758   \n2  1.000000  1.000000  1.000000  ...  1.000000  1.000000  1.000000  1.000000   \n\n        194       195       196       197       198       199  \n0 -0.104566 -1.197177 -0.948006 -0.829566 -1.658237 -1.353478  \n1 -0.166161 -0.381024  0.728458  0.574250  0.947608  0.254973  \n2  1.000000  1.000000  1.000000  1.000000  1.000000  1.000000  \n\n[3 rows x 200 columns]",
      "text/html": "<div>\n<style scoped>\n    .dataframe tbody tr th:only-of-type {\n        vertical-align: middle;\n    }\n\n    .dataframe tbody tr th {\n        vertical-align: top;\n    }\n\n    .dataframe thead th {\n        text-align: right;\n    }\n</style>\n<table border=\"1\" class=\"dataframe\">\n  <thead>\n    <tr style=\"text-align: right;\">\n      <th></th>\n      <th>0</th>\n      <th>1</th>\n      <th>2</th>\n      <th>3</th>\n      <th>4</th>\n      <th>5</th>\n      <th>6</th>\n      <th>7</th>\n      <th>8</th>\n      <th>9</th>\n      <th>...</th>\n      <th>190</th>\n      <th>191</th>\n      <th>192</th>\n      <th>193</th>\n      <th>194</th>\n      <th>195</th>\n      <th>196</th>\n      <th>197</th>\n      <th>198</th>\n      <th>199</th>\n    </tr>\n  </thead>\n  <tbody>\n    <tr>\n      <th>0</th>\n      <td>1.892654</td>\n      <td>1.084616</td>\n      <td>-0.111777</td>\n      <td>1.230013</td>\n      <td>0.235704</td>\n      <td>0.905172</td>\n      <td>0.493711</td>\n      <td>1.594008</td>\n      <td>1.314981</td>\n      <td>0.733770</td>\n      <td>...</td>\n      <td>-1.254167</td>\n      <td>-0.338942</td>\n      <td>-0.760977</td>\n      <td>-0.962425</td>\n      <td>-0.104566</td>\n      <td>-1.197177</td>\n      <td>-0.948006</td>\n      <td>-0.829566</td>\n      <td>-1.658237</td>\n      <td>-1.353478</td>\n    </tr>\n    <tr>\n      <th>1</th>\n      <td>0.460128</td>\n      <td>-0.407167</td>\n      <td>-0.132358</td>\n      <td>-0.348271</td>\n      <td>0.443717</td>\n      <td>0.581203</td>\n      <td>-0.488681</td>\n      <td>0.752363</td>\n      <td>0.746750</td>\n      <td>0.736333</td>\n      <td>...</td>\n      <td>0.244792</td>\n      <td>0.500727</td>\n      <td>-0.601116</td>\n      <td>0.540758</td>\n      <td>-0.166161</td>\n      <td>-0.381024</td>\n      <td>0.728458</td>\n      <td>0.574250</td>\n      <td>0.947608</td>\n      <td>0.254973</td>\n    </tr>\n    <tr>\n      <th>2</th>\n      <td>1.000000</td>\n      <td>1.000000</td>\n      <td>1.000000</td>\n      <td>1.000000</td>\n      <td>1.000000</td>\n      <td>1.000000</td>\n      <td>1.000000</td>\n      <td>1.000000</td>\n      <td>1.000000</td>\n      <td>1.000000</td>\n      <td>...</td>\n      <td>1.000000</td>\n      <td>1.000000</td>\n      <td>1.000000</td>\n      <td>1.000000</td>\n      <td>1.000000</td>\n      <td>1.000000</td>\n      <td>1.000000</td>\n      <td>1.000000</td>\n      <td>1.000000</td>\n      <td>1.000000</td>\n    </tr>\n  </tbody>\n</table>\n<p>3 rows × 200 columns</p>\n</div>"
     },
     "metadata": {},
     "output_type": "display_data"
    },
    {
     "data": {
      "text/plain": "   0    1    2    3    4    5    6    7    8    9    ...  190  191  192  193  \\\n0  1.0  1.0  1.0  1.0  1.0  1.0  1.0  1.0  1.0  1.0  ... -1.0 -1.0 -1.0 -1.0   \n\n   194  195  196  197  198  199  \n0 -1.0 -1.0 -1.0 -1.0 -1.0 -1.0  \n\n[1 rows x 200 columns]",
      "text/html": "<div>\n<style scoped>\n    .dataframe tbody tr th:only-of-type {\n        vertical-align: middle;\n    }\n\n    .dataframe tbody tr th {\n        vertical-align: top;\n    }\n\n    .dataframe thead th {\n        text-align: right;\n    }\n</style>\n<table border=\"1\" class=\"dataframe\">\n  <thead>\n    <tr style=\"text-align: right;\">\n      <th></th>\n      <th>0</th>\n      <th>1</th>\n      <th>2</th>\n      <th>3</th>\n      <th>4</th>\n      <th>5</th>\n      <th>6</th>\n      <th>7</th>\n      <th>8</th>\n      <th>9</th>\n      <th>...</th>\n      <th>190</th>\n      <th>191</th>\n      <th>192</th>\n      <th>193</th>\n      <th>194</th>\n      <th>195</th>\n      <th>196</th>\n      <th>197</th>\n      <th>198</th>\n      <th>199</th>\n    </tr>\n  </thead>\n  <tbody>\n    <tr>\n      <th>0</th>\n      <td>1.0</td>\n      <td>1.0</td>\n      <td>1.0</td>\n      <td>1.0</td>\n      <td>1.0</td>\n      <td>1.0</td>\n      <td>1.0</td>\n      <td>1.0</td>\n      <td>1.0</td>\n      <td>1.0</td>\n      <td>...</td>\n      <td>-1.0</td>\n      <td>-1.0</td>\n      <td>-1.0</td>\n      <td>-1.0</td>\n      <td>-1.0</td>\n      <td>-1.0</td>\n      <td>-1.0</td>\n      <td>-1.0</td>\n      <td>-1.0</td>\n      <td>-1.0</td>\n    </tr>\n  </tbody>\n</table>\n<p>1 rows × 200 columns</p>\n</div>"
     },
     "metadata": {},
     "output_type": "display_data"
    }
   ],
   "source": [
    "def generate_data(n=100, mA=[1.0, 0.5], mB=[-1.0, 0.0], sigmaA=0.5, sigmaB=0.5):\n",
    "    classA = np.vstack((random.randn(1, n) * sigmaA + mA[0],\n",
    "                        random.randn(1, n) * sigmaA + mA[1],\n",
    "                        ))\n",
    "    y_true_A = np.ones((1, n))\n",
    "\n",
    "    classB = np.vstack((random.randn(1, n) * sigmaB + mB[0],\n",
    "                        random.randn(1, n) * sigmaB + mB[1],\n",
    "                        ))\n",
    "    y_true_B = -np.ones((1, n))\n",
    "\n",
    "    data = np.concatenate((classA, classB), axis=1)\n",
    "    y_true = np.concatenate((y_true_A, y_true_B), axis=1)\n",
    "\n",
    "    data_with_bias = np.vstack((data, np.ones((1, 2 * n))))\n",
    "\n",
    "    return data_with_bias, y_true\n",
    "\n",
    "\n",
    "data_with_bias, y_true = generate_data()\n",
    "\n",
    "display(pd.DataFrame(data_with_bias))\n",
    "display(pd.DataFrame(y_true))"
   ],
   "metadata": {
    "collapsed": false,
    "pycharm": {
     "name": "#%%\n"
    }
   }
  },
  {
   "cell_type": "code",
   "execution_count": 12,
   "outputs": [
    {
     "data": {
      "text/plain": "{0: 1.5,\n -25: 0,\n 1: 1.35,\n -24: 0,\n 2: 1.215,\n -23: 0,\n 3: 1.0935000000000001,\n -22: 0,\n 4: 0.9841500000000001,\n -21: 0,\n 5: 0.885735,\n -20: 0,\n 6: 0.7971615000000001,\n -19: 0,\n 7: 0.7174453500000001,\n -18: 0,\n 8: 0.6457008150000001,\n -17: 0,\n 9: 0.5811307335000001,\n -16: 0,\n 10: 0.5230176601500001,\n -15: 0,\n 11: 0.47071589413500003,\n -14: 0,\n 12: 0.42364430472150005,\n -13: 0,\n 13: 0.38127987424935006,\n -12: 0,\n 14: 0.34315188682441505,\n -11: 0,\n 15: 0.30883669814197356,\n -10: 0,\n 16: 0.2779530283277762,\n -9: 0,\n 17: 0.2501577254949986,\n -8: 0,\n 18: 0.22514195294549874,\n -7: 0,\n 19: 0.20262775765094887,\n -6: 0,\n 20: 0.18236498188585398,\n -5: 0,\n 21: 0.1641284836972686,\n -4: 0,\n 22: 0.14771563532754173,\n -3: 0,\n 23: 0.13294407179478757,\n -2: 0,\n 24: 0.1196496646153088,\n -1: 0,\n 25: 0.10768469815377793,\n 26: 0.10203000657487908,\n 27: 0.10461923984132782,\n 28: 0.12449165822223743,\n 29: 0.1755352416374559,\n 30: 0.2642418962622759,\n 31: 0.374379535123461,\n 32: 0.4814040102411284,\n 33: 0.5717489693917618,\n 34: 0.6421075255713914,\n 35: 0.6936145979532385,\n 36: 0.7286966977367713,\n 37: 0.749919955685713,\n 38: 0.759641046248182,\n 39: 0.7599279655693201,\n 40: 0.752563992665461,\n 41: 0.7390744454488909,\n 42: 0.7207574535614962,\n 43: 0.6987132052887095,\n 44: 0.6738702602811133,\n 45: 0.6470087810547476,\n 46: 0.6187808978426076,\n 47: 0.5897285043321571,\n 48: 0.560298780818326,\n 49: 0.5308577170495957,\n 50: 0.5017018782533081,\n 51: 0.47306863005421723,\n 52: 0.4461677683612765,\n 53: 0.4224748394901277,\n 54: 0.40512568716329994,\n 55: 0.3997201657993873,\n 56: 0.4125964407621836,\n 57: 0.4462086538543663,\n 58: 0.49780427044675835,\n 59: 0.5619483610567346,\n 60: 0.632662961395638,\n 61: 0.7046339750221706,\n 62: 0.7740067178137989,\n 63: 0.8386022612362062,\n 64: 0.897533598712953,\n 65: 0.9505932411673287,\n 66: 0.9977594380233522,\n 67: 1.0389438355839764,\n 68: 1.0739458264344226,\n 69: 1.102523042673996,\n 70: 1.1244917172440725,\n 71: 1.1398018437559017,\n 72: 1.1485677107085561,\n 73: 1.1510596061023919,\n 74: 1.1476727392737438,\n 75: 1.1388886359281023,\n 76: 1.125238874807931,\n 77: 1.1072756307704332,\n 78: 1.0857537361258423,\n 79: 1.0616580279714134,\n 80: 1.0365077139722498,\n 81: 1.0127926523222905,\n 82: 0.9940208788787116,\n 83: 0.9838326084084961,\n 84: 0.984917247433435,\n 85: 0.9984633681666377,\n 86: 1.0238628934553438,\n 87: 1.058275598602463,\n 88: 1.0961592210045035,\n 89: 1.129647946840735,\n 90: 1.150719403757148,\n 91: 1.1542872550827508,\n 92: 1.1397534514808758,\n 93: 1.1100641684340509,\n 94: 1.0696909505487355,\n 95: 1.0230703835744233,\n 96: 0.973897148393552,\n 97: 0.9250015668102372,\n 98: 0.8784859366169349}"
     },
     "metadata": {},
     "output_type": "display_data"
    }
   ],
   "source": [
    "def mackey_glass(t, mg_dict, beta=0.2, gamma=0.1, n=10, r=25):\n",
    "    if t == 0:\n",
    "        return 1.5\n",
    "    elif t < 0:\n",
    "        return 0\n",
    "\n",
    "    if mg_dict.get(t):\n",
    "        return mg_dict.get(t)\n",
    "\n",
    "    t_prev = t - 1\n",
    "\n",
    "    if not mg_dict.get(t_prev):\n",
    "        mg_dict[t_prev] = mackey_glass(t_prev, mg_dict)\n",
    "\n",
    "    mg_t = mg_dict.get(t_prev)\n",
    "\n",
    "    if not mg_dict.get(t_prev - r):\n",
    "        mg_dict[t_prev - r] = mackey_glass(t_prev - r, mg_dict)\n",
    "\n",
    "    mg_tr = mg_dict.get(t_prev - r)\n",
    "\n",
    "    return mg_t + (beta * mg_tr) / (1 + mg_tr ** n) - gamma * mg_t\n",
    "\n",
    "mg_dict = {}\n",
    "for t in range(100):\n",
    "    mackey_glass(t, mg_dict)\n",
    "\n",
    "display(mg_dict)"
   ],
   "metadata": {
    "collapsed": false,
    "pycharm": {
     "name": "#%%\n"
    }
   }
  },
  {
   "cell_type": "code",
   "execution_count": 13,
   "outputs": [
    {
     "data": {
      "text/plain": "<Figure size 432x288 with 1 Axes>",
      "image/png": "[encoded data removed]"
     },
     "metadata": {
      "needs_background": "light"
     },
     "output_type": "display_data"
    }
   ],
   "source": [
    "plt.scatter(mg_dict.keys(), mg_dict.values())\n",
    "plt.show()"
   ],
   "metadata": {
    "collapsed": false,
    "pycharm": {
     "name": "#%%\n"
    }
   }
  }
 ],
 "metadata": {
  "kernelspec": {
   "display_name": "Python 3",
   "language": "python",
   "name": "python3"
  },
  "language_info": {
   "codemirror_mode": {
    "name": "ipython",
    "version": 2
   },
   "file_extension": ".py",
   "mimetype": "text/x-python",
   "name": "python",
   "nbconvert_exporter": "python",
   "pygments_lexer": "ipython2",
   "version": "2.7.6"
  }
 },
 "nbformat": 4,
 "nbformat_minor": 0
}