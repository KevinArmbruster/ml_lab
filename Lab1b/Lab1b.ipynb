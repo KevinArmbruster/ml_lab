{
 "cells": [
  {
   "cell_type": "code",
   "execution_count": 1,
   "outputs": [],
   "source": [
    "import numpy.random as random\n",
    "import numpy as np\n",
    "import pandas as pd\n",
    "from IPython.core.display_functions import display\n"
   ],
   "metadata": {
    "collapsed": false,
    "pycharm": {
     "name": "#%%\n"
    }
   }
  },
  {
   "cell_type": "code",
   "execution_count": 10,
   "outputs": [
    {
     "data": {
      "text/plain": "        0         1         2         3         4         5         6    \\\n0  1.892654  1.084616 -0.111777  1.230013  0.235704  0.905172  0.493711   \n1  0.460128 -0.407167 -0.132358 -0.348271  0.443717  0.581203 -0.488681   \n2  1.000000  1.000000  1.000000  1.000000  1.000000  1.000000  1.000000   \n\n        7         8         9    ...       190       191       192       193  \\\n0  1.594008  1.314981  0.733770  ... -1.254167 -0.338942 -0.760977 -0.962425   \n1  0.752363  0.746750  0.736333  ...  0.244792  0.500727 -0.601116  0.540758   \n2  1.000000  1.000000  1.000000  ...  1.000000  1.000000  1.000000  1.000000   \n\n        194       195       196       197       198       199  \n0 -0.104566 -1.197177 -0.948006 -0.829566 -1.658237 -1.353478  \n1 -0.166161 -0.381024  0.728458  0.574250  0.947608  0.254973  \n2  1.000000  1.000000  1.000000  1.000000  1.000000  1.000000  \n\n[3 rows x 200 columns]",
      "text/html": "<div>\n<style scoped>\n    .dataframe tbody tr th:only-of-type {\n        vertical-align: middle;\n    }\n\n    .dataframe tbody tr th {\n        vertical-align: top;\n    }\n\n    .dataframe thead th {\n        text-align: right;\n    }\n</style>\n<table border=\"1\" class=\"dataframe\">\n  <thead>\n    <tr style=\"text-align: right;\">\n      <th></th>\n      <th>0</th>\n      <th>1</th>\n      <th>2</th>\n      <th>3</th>\n      <th>4</th>\n      <th>5</th>\n      <th>6</th>\n      <th>7</th>\n      <th>8</th>\n      <th>9</th>\n      <th>...</th>\n      <th>190</th>\n      <th>191</th>\n      <th>192</th>\n      <th>193</th>\n      <th>194</th>\n      <th>195</th>\n      <th>196</th>\n      <th>197</th>\n      <th>198</th>\n      <th>199</th>\n    </tr>\n  </thead>\n  <tbody>\n    <tr>\n      <th>0</th>\n      <td>1.892654</td>\n      <td>1.084616</td>\n      <td>-0.111777</td>\n      <td>1.230013</td>\n      <td>0.235704</td>\n      <td>0.905172</td>\n      <td>0.493711</td>\n      <td>1.594008</td>\n      <td>1.314981</td>\n      <td>0.733770</td>\n      <td>...</td>\n      <td>-1.254167</td>\n      <td>-0.338942</td>\n      <td>-0.760977</td>\n      <td>-0.962425</td>\n      <td>-0.104566</td>\n      <td>-1.197177</td>\n      <td>-0.948006</td>\n      <td>-0.829566</td>\n      <td>-1.658237</td>\n      <td>-1.353478</td>\n    </tr>\n    <tr>\n      <th>1</th>\n      <td>0.460128</td>\n      <td>-0.407167</td>\n      <td>-0.132358</td>\n      <td>-0.348271</td>\n      <td>0.443717</td>\n      <td>0.581203</td>\n      <td>-0.488681</td>\n      <td>0.752363</td>\n      <td>0.746750</td>\n      <td>0.736333</td>\n      <td>...</td>\n      <td>0.244792</td>\n      <td>0.500727</td>\n      <td>-0.601116</td>\n      <td>0.540758</td>\n      <td>-0.166161</td>\n      <td>-0.381024</td>\n      <td>0.728458</td>\n      <td>0.574250</td>\n      <td>0.947608</td>\n      <td>0.254973</td>\n    </tr>\n    <tr>\n      <th>2</th>\n      <td>1.000000</td>\n      <td>1.000000</td>\n      <td>1.000000</td>\n      <td>1.000000</td>\n      <td>1.000000</td>\n      <td>1.000000</td>\n      <td>1.000000</td>\n      <td>1.000000</td>\n      <td>1.000000</td>\n      <td>1.000000</td>\n      <td>...</td>\n      <td>1.000000</td>\n      <td>1.000000</td>\n      <td>1.000000</td>\n      <td>1.000000</td>\n      <td>1.000000</td>\n      <td>1.000000</td>\n      <td>1.000000</td>\n      <td>1.000000</td>\n      <td>1.000000</td>\n      <td>1.000000</td>\n    </tr>\n  </tbody>\n</table>\n<p>3 rows × 200 columns</p>\n</div>"
     },
     "metadata": {},
     "output_type": "display_data"
    },
    {
     "data": {
      "text/plain": "   0    1    2    3    4    5    6    7    8    9    ...  190  191  192  193  \\\n0  1.0  1.0  1.0  1.0  1.0  1.0  1.0  1.0  1.0  1.0  ... -1.0 -1.0 -1.0 -1.0   \n\n   194  195  196  197  198  199  \n0 -1.0 -1.0 -1.0 -1.0 -1.0 -1.0  \n\n[1 rows x 200 columns]",
      "text/html": "<div>\n<style scoped>\n    .dataframe tbody tr th:only-of-type {\n        vertical-align: middle;\n    }\n\n    .dataframe tbody tr th {\n        vertical-align: top;\n    }\n\n    .dataframe thead th {\n        text-align: right;\n    }\n</style>\n<table border=\"1\" class=\"dataframe\">\n  <thead>\n    <tr style=\"text-align: right;\">\n      <th></th>\n      <th>0</th>\n      <th>1</th>\n      <th>2</th>\n      <th>3</th>\n      <th>4</th>\n      <th>5</th>\n      <th>6</th>\n      <th>7</th>\n      <th>8</th>\n      <th>9</th>\n      <th>...</th>\n      <th>190</th>\n      <th>191</th>\n      <th>192</th>\n      <th>193</th>\n      <th>194</th>\n      <th>195</th>\n      <th>196</th>\n      <th>197</th>\n      <th>198</th>\n      <th>199</th>\n    </tr>\n  </thead>\n  <tbody>\n    <tr>\n      <th>0</th>\n      <td>1.0</td>\n      <td>1.0</td>\n      <td>1.0</td>\n      <td>1.0</td>\n      <td>1.0</td>\n      <td>1.0</td>\n      <td>1.0</td>\n      <td>1.0</td>\n      <td>1.0</td>\n      <td>1.0</td>\n      <td>...</td>\n      <td>-1.0</td>\n      <td>-1.0</td>\n      <td>-1.0</td>\n      <td>-1.0</td>\n      <td>-1.0</td>\n      <td>-1.0</td>\n      <td>-1.0</td>\n      <td>-1.0</td>\n      <td>-1.0</td>\n      <td>-1.0</td>\n    </tr>\n  </tbody>\n</table>\n<p>1 rows × 200 columns</p>\n</div>"
     },
     "metadata": {},
     "output_type": "display_data"
    }
   ],
   "source": [
    "def generate_data(n = 100, mA = [1.0, 0.5], mB = [-1.0, 0.0], sigmaA = 0.5, sigmaB = 0.5):\n",
    "    classA = np.vstack((random.randn(1,n) * sigmaA + mA[0],\n",
    "                        random.randn(1,n) * sigmaA + mA[1],\n",
    "                        ))\n",
    "    y_true_A = np.ones((1,n))\n",
    "\n",
    "    classB = np.vstack((random.randn(1,n) * sigmaB + mB[0],\n",
    "                        random.randn(1,n) * sigmaB + mB[1],\n",
    "                        ))\n",
    "    y_true_B = -np.ones((1,n))\n",
    "\n",
    "    data = np.concatenate((classA, classB), axis=1)\n",
    "    y_true = np.concatenate((y_true_A, y_true_B), axis=1)\n",
    "\n",
    "    data_with_bias = np.vstack((data, np.ones((1, 2*n))))\n",
    "\n",
    "    return data_with_bias, y_true\n",
    "\n",
    "data_with_bias, y_true = generate_data()\n",
    "\n",
    "display(pd.DataFrame(data_with_bias))\n",
    "display(pd.DataFrame(y_true))"
   ],
   "metadata": {
    "collapsed": false,
    "pycharm": {
     "name": "#%%\n"
    }
   }
  },
  {
   "cell_type": "code",
   "execution_count": null,
   "outputs": [],
   "source": [
    "t = 301:1500;\n",
    "input = [x(t-20); x(t-15); x(t-10); x(t-5); x(t)];\n",
    "output = x(t+5);"
   ],
   "metadata": {
    "collapsed": false,
    "pycharm": {
     "name": "#%%\n"
    }
   }
  }
 ],
 "metadata": {
  "kernelspec": {
   "display_name": "Python 3",
   "language": "python",
   "name": "python3"
  },
  "language_info": {
   "codemirror_mode": {
    "name": "ipython",
    "version": 2
   },
   "file_extension": ".py",
   "mimetype": "text/x-python",
   "name": "python",
   "nbconvert_exporter": "python",
   "pygments_lexer": "ipython2",
   "version": "2.7.6"
  }
 },
 "nbformat": 4,
 "nbformat_minor": 0
}