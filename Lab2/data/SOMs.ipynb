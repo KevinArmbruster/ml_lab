{
 "nbformat": 4,
 "nbformat_minor": 0,
 "metadata": {
  "colab": {
   "provenance": [],
   "collapsed_sections": []
  },
  "kernelspec": {
   "name": "python3",
   "display_name": "Python 3"
  },
  "language_info": {
   "name": "python"
  }
 },
 "cells": [
  {
   "cell_type": "code",
   "source": [
    "import pandas as pd\n",
    "import numpy as np\n",
    "import matplotlib.pylab as plt\n",
    "import math\n",
    "# reading csv files\n",
    "data =  pd.read_csv('animals.dat', sep=\",\", header=None)\n",
    "animals_name =  pd.read_csv('animalnames.txt', header=None)\n",
    "\n",
    "data = data.to_numpy()\n",
    "animals_name = animals_name.to_numpy()\n",
    "animals_data = data.reshape(32,84)\n",
    "\n",
    "animals_data\n",
    "animals_name"
   ],
   "metadata": {
    "id": "X4en6ljKBzGh"
   },
   "execution_count": 14,
   "outputs": [
    {
     "data": {
      "text/plain": "array([[\"'antelop'\\t\"],\n       [\"'ape'\\t\"],\n       [\"'bat'\\t\"],\n       [\"'bear'\\t\"],\n       [\"'beetle'\\t\"],\n       [\"'butterfly'\\t\"],\n       [\"'camel'\\t\"],\n       [\"'cat'\\t\"],\n       [\"'crocodile'\\t\"],\n       [\"'dog'\\t\"],\n       [\"'dragonfly'\\t\"],\n       [\"'duck'\\t\"],\n       [\"'elephant'\\t\"],\n       [\"'frog'\\t\"],\n       [\"'giraffe'\\t\"],\n       [\"'grasshopper'\\t\"],\n       [\"'horse'\"],\n       [\"'housefly'\"],\n       [\"'hyena'\\t\"],\n       [\"'kangaroo'\\t\"],\n       [\"'lion'\\t\"],\n       [\"'moskito'\\t\"],\n       [\"'ostrich'\\t\"],\n       [\"'pelican'\\t\"],\n       [\"'penguin'\\t\"],\n       [\"'pig'\\t\"],\n       [\"'rabbit'\\t\"],\n       [\"'rat'\\t\"],\n       [\"'seaturtle'\\t\"],\n       [\"'skunk'\\t\"],\n       [\"'spider'\\t\"],\n       [\"'walrus'\"]], dtype=object)"
     },
     "execution_count": 14,
     "metadata": {},
     "output_type": "execute_result"
    }
   ]
  },
  {
   "cell_type": "code",
   "source": [
    "cities_csv = open(\"cities.dat\")\n",
    "cities = np.loadtxt(cities_csv, delimiter=\",\")\n",
    "cities"
   ],
   "metadata": {
    "id": "A5DQFPk-z7Ib"
   },
   "execution_count": 15,
   "outputs": [
    {
     "data": {
      "text/plain": "array([[0.4   , 0.4439],\n       [0.2439, 0.1463],\n       [0.1707, 0.2293],\n       [0.2293, 0.761 ],\n       [0.5171, 0.9414],\n       [0.8732, 0.6536],\n       [0.6878, 0.5219],\n       [0.8488, 0.3609],\n       [0.6683, 0.2536],\n       [0.6195, 0.2634]])"
     },
     "execution_count": 15,
     "metadata": {},
     "output_type": "execute_result"
    }
   ]
  },
  {
   "cell_type": "code",
   "source": [
    "votes_csv = open(\"votes.dat\")\n",
    "names_csv = open(\"mpparty.dat\")\n",
    "\n",
    "votes = np.loadtxt(votes_csv, delimiter=\",\")\n",
    "names = pd.read_csv('mpparty.dat', header=None)\n",
    "genders = pd.read_csv('mpsex.dat', header=None)\n",
    "\n",
    "names = names.to_numpy()\n",
    "votes = votes.reshape(349, 31)\n",
    "genders = genders.to_numpy()"
   ],
   "metadata": {
    "id": "JyVkRUCrMN6a"
   },
   "execution_count": 16,
   "outputs": []
  },
  {
   "cell_type": "code",
   "source": [
    "def num_to_color(num):\n",
    "  if num == 0 :\n",
    "    return (1,1,1)\n",
    "  if num == 1 :\n",
    "    return (204,1,1)\n",
    "  if num == 2 :\n",
    "    return (204,1,204)  \n",
    "  if num == 3 :\n",
    "    return (204,204,1)   \n",
    "  if num == 4 :\n",
    "    return (102,204,1)\n",
    "  if num == 5 :\n",
    "    return (1,1,102)\n",
    "  if num == 6 :\n",
    "    return (200,104,1)\n",
    "  if num == 7 :\n",
    "    return (1,204,204)          \n",
    "\n",
    "\n",
    "def sex_to_color(num):\n",
    "  if num == 0 :\n",
    "    return (1,1,200)\n",
    "  if num == 1 :\n",
    "    return (204,1,1)            "
   ],
   "metadata": {
    "id": "bqFEviyZaKTL"
   },
   "execution_count": 17,
   "outputs": []
  },
  {
   "cell_type": "code",
   "source": [
    "#Sorting functions\n",
    "def takeFirst(elem):\n",
    "    return elem[0]\n",
    "\n",
    "\n",
    "def color_mix(color_list) :\n",
    "  if not color_list :\n",
    "    return [255,255,255]\n",
    "  else :\n",
    "    cell_population = 0\n",
    "    for color in color_list :\n",
    "      cell_population += color[1]\n",
    "\n",
    "\n",
    "    first_color = color_list[0]\n",
    "    mix = [first_color[0][0], first_color[0][1], first_color[0][2], first_color[0][1]/cell_population]\n",
    "    mix_R = 1\n",
    "    if len(color_list) > 1 :\n",
    "      for i in range(1, len(color_list)) :\n",
    "        second_color = color_list[i]  \n",
    "        mix_R = 1 - (1 - mix[3]) * (1 - second_color[1]/cell_population)\n",
    "        mix[0] = (mix[0] * mix[3] /mix_R)  + second_color[0][0] * (second_color[1]/cell_population) / mix_R\n",
    "        mix[1] = (mix[1] * mix[3] /mix_R)  + second_color[0][1] * (second_color[1]/cell_population) / mix_R\n",
    "        mix[2] = (mix[2] * mix[3] /mix_R)  + second_color[0][2] * (second_color[1]/cell_population) / mix_R\n",
    "\n",
    "    return [first_color[0][0], first_color[0][1], first_color[0][2]] "
   ],
   "metadata": {
    "id": "apTSqLkSraHc"
   },
   "execution_count": 18,
   "outputs": []
  },
  {
   "cell_type": "code",
   "execution_count": 19,
   "metadata": {
    "id": "FiNuyiJTtiXW"
   },
   "outputs": [],
   "source": [
    "def stack(listi, o) :\n",
    "  if not listi :\n",
    "    listi.append([num_to_color(o), 1])\n",
    "  else :  \n",
    "    for element in listi :\n",
    "      if element[0] == num_to_color(o) :\n",
    "        element[1] = element[1] + 1  \n",
    "        return 1\n",
    "    print(\"o : \", o, \"num(o)\", num_to_color(o))    \n",
    "    listi.append([num_to_color(o), 1])   \n",
    "\n",
    "def stack_gender(listi, o) :\n",
    "  if not listi :\n",
    "    listi.append([sex_to_color(o), 1])\n",
    "  else :  \n",
    "    for element in listi :\n",
    "      if element[0] == sex_to_color(o) :\n",
    "        element[1] = element[1] + 1  \n",
    "        return 1         \n",
    "    listi.append([sex_to_color(o), 1])            \n",
    "\n",
    "def distance(X, W_i):\n",
    "  return (X - W_i).T @ (X - W_i)\n",
    "\n",
    "def most_similar(X, W):\n",
    "  min = 10000\n",
    "  winner = []\n",
    "\n",
    "  for i in range(0, W[0].size) :\n",
    "      d = distance(X,W[i])\n",
    "      if (d < min) :\n",
    "        min = d\n",
    "        winner = i\n",
    "\n",
    "  return winner    \n",
    "\n",
    "\n",
    "def most_similar_2D(X, W, size_x, size_y):\n",
    "  min = 10000\n",
    "  winner = []\n",
    "\n",
    "  for i in range(0, size_x) :\n",
    "    for j in range(0, size_y) :\n",
    "      d = distance(X,W[i*size_x + j])\n",
    "      if (d < min) :\n",
    "        min = d\n",
    "        winner = (i, j)\n",
    "\n",
    "  return winner  \n",
    "\n",
    "\n",
    "def find_neighbours_2D(i, j, radius, size_x=100, size_y=84):\n",
    "  neighbourgs = [(i,j)]\n",
    "\n",
    "  for x in range(-radius, radius+1):\n",
    "    for y in range(-radius, radius+1):\n",
    "      if ((i+x) < 0 or (i+x) >= size_x) :\n",
    "        continue\n",
    "      if ((j+y) < 0 or (j+y) >= size_y) :\n",
    "        continue  \n",
    "      neighbourgs.append((i+x,j+y)) \n",
    "  return neighbourgs\n",
    "\n",
    "def find_neighbours_1D(i, radius, size_x=100):\n",
    "  neighbourgs = [i]\n",
    "\n",
    "  for x in range(-radius, radius):\n",
    "      if ((i+x) < 0 or (i+x) >= size_x) :\n",
    "        continue\n",
    "      neighbourgs.append(i+x)\n",
    "\n",
    "  return neighbourgs  \n",
    "\n",
    "def find_neighbours_1D_c(i, radius, size_x=100):\n",
    "  neighbourgs = []\n",
    "\n",
    "  for x in range(-radius, radius):\n",
    "      neighbourgs.append(i+x)\n",
    "\n",
    "  return neighbourgs    \n",
    "\n",
    "def update_weights(X, W, neighbourgs, eta):\n",
    "  n_W = W.copy()\n",
    "  for i in neighbourgs :\n",
    "    n_W[i] = W[i] + eta*(X - W[i])\n",
    "  return n_W\n",
    "\n",
    "def update_weights_2D(X, W, neighbourgs, eta, size_x = 10):\n",
    "  n_W = W.copy()\n",
    "  for i , j in neighbourgs :\n",
    "    index = i*size_x + j\n",
    "    n_W[index] = W[index] + eta*(X - W[index])\n",
    "  return n_W  \n",
    "\n",
    "def output_result_n(Patterns,Names, W):\n",
    "  results = []\n",
    "\n",
    "  for index_a in range(0, Patterns.shape[0]) : \n",
    "    i_winner = most_similar(Patterns[index_a], W)\n",
    "    results.append((i_winner, Names[index_a][0][0:-2]))\n",
    "\n",
    "  print(results)\n",
    "  results.sort(key=takeFirst)\n",
    "  return results  \n",
    "\n",
    "\n",
    "def output_result(Patterns, W):\n",
    "  results = []\n",
    "\n",
    "  for index_a in range(0, Patterns.shape[0]) : \n",
    "    i_winner = most_similar(Patterns[index_a], W)\n",
    "    results.append((i_winner, Patterns[index_a]))\n",
    "\n",
    "  results.sort(key=takeFirst)\n",
    "  return results    \n",
    "\n",
    "\n",
    "def output_result_2D(Patterns, W, Names, size_x, size_y):\n",
    "  results = [[[] for j in range(0,10)] for i in range(0, 10)]\n",
    "  for index_a in range(0, Patterns.shape[0]) : \n",
    "    i_winner, j_winner = most_similar_2D(Patterns[index_a], W, size_x, size_y)\n",
    "    stack(results[i_winner][j_winner], Names[index_a][0])\n",
    "\n",
    "  return results   \n",
    "\n",
    "\n",
    "def output_result_2D_gender(Patterns, W, Names, size_x, size_y):\n",
    "  results = [[[] for j in range(0,10)] for i in range(0, 10)]\n",
    "  for index_a in range(0, Patterns.shape[0]) : \n",
    "    i_winner, j_winner = most_similar_2D(Patterns[index_a], W, size_x, size_y)\n",
    "    stack_gender(results[i_winner][j_winner], Names[index_a][0])\n",
    "\n",
    "  return results   "
   ]
  },
  {
   "cell_type": "code",
   "source": [
    "print(find_neighbours_2D(5,6,1,10,10))"
   ],
   "metadata": {
    "id": "BN1Z5KBksLrq",
    "colab": {
     "base_uri": "https://localhost:8080/"
    },
    "outputId": "734a091f-60a7-4d8c-a3d1-ceabe0e3285d"
   },
   "execution_count": 33,
   "outputs": [
    {
     "name": "stdout",
     "output_type": "stream",
     "text": [
      "[(5, 6), (4, 5), (4, 6), (4, 7), (5, 5), (5, 6), (5, 7), (6, 5), (6, 6), (6, 7)]\n"
     ]
    }
   ]
  },
  {
   "cell_type": "code",
   "source": [
    "W = -10*np.random.random_sample((100, 84))\n",
    "\n",
    "n_epochs = 20\n",
    "\n",
    "for n in range(0, n_epochs):\n",
    "  for i in range(0, animals_data.shape[0]):\n",
    "    i_w = most_similar(animals_data[i], W)\n",
    "    neighbours = find_neighbours_1D(i_w, 4)\n",
    "    W = update_weights(animals_data[i], W, neighbours, 0.2)\n",
    "\n"
   ],
   "metadata": {
    "id": "Ik8Oc7Nz-xny"
   },
   "execution_count": 41,
   "outputs": [
    {
     "data": {
      "text/plain": "          0         1         2         3         4         5         6   \\\n0  -1.692014 -9.680563 -6.974675 -1.556685 -2.356850 -7.795228 -0.477821   \n1  -7.409657 -5.199120 -3.057272 -5.305612 -0.661947 -1.182625 -6.293443   \n2  -7.253482 -5.217655 -9.676582 -9.822488 -7.102524 -2.254088 -0.706434   \n3  -9.601500 -8.496403 -2.434874 -7.111573 -1.751895 -8.299940 -7.662066   \n4  -7.860767 -4.398558 -4.033941 -7.047300 -5.339702 -6.960704 -0.406110   \n..       ...       ...       ...       ...       ...       ...       ...   \n95 -5.594876 -9.531134 -0.473310 -8.035481 -2.699479 -9.450430 -3.728425   \n96 -2.710337 -9.383431 -2.160406 -3.315732 -2.259382 -8.710966 -7.725261   \n97 -5.996459 -0.901588 -0.529473 -0.538134 -8.929439 -8.617175 -3.315220   \n98 -9.976051 -4.475046 -9.566540 -2.168999 -4.924814 -3.683800 -5.263925   \n99 -4.145333 -8.988651 -2.036345 -0.983385 -2.161013 -1.363057 -6.246843   \n\n          7         8         9   ...        74        75        76        77  \\\n0  -8.734034 -7.827128 -6.024678  ... -0.697319 -6.631985 -3.335403 -6.843553   \n1  -2.410927 -4.612306 -4.849498  ... -3.301913 -4.171555 -6.206733 -1.859227   \n2  -2.739849 -7.224141 -1.535765  ... -0.253444 -0.542220 -7.842293 -4.636129   \n3  -0.286889 -2.855322 -4.846808  ... -2.794926 -9.399561 -8.648331 -3.107930   \n4  -6.429619 -9.998950 -9.413083  ... -7.676962 -1.984145 -6.919907 -0.306634   \n..       ...       ...       ...  ...       ...       ...       ...       ...   \n95 -3.255165 -8.635166 -6.751533  ... -1.235541 -7.190374 -4.521353 -1.982518   \n96 -9.753222 -8.922606 -3.615490  ... -2.043743 -6.202840 -7.582493 -4.494274   \n97 -2.047841 -4.434076 -7.178942  ... -8.071788 -1.947630 -4.963753 -8.420280   \n98 -4.728814 -0.490507 -6.849198  ... -9.752331 -2.868001 -0.011624 -8.042507   \n99 -9.762092 -9.951223 -6.270683  ... -2.077247 -5.933587 -2.047705 -3.373720   \n\n          78        79        80        81        82        83  \n0  -8.460522 -9.876616 -4.536220 -1.196085 -6.109752 -4.625844  \n1  -5.044692 -4.490798 -7.887150 -7.844347 -8.252076 -7.125730  \n2  -1.302919 -1.231220 -7.726737 -2.648233 -5.721551 -6.491044  \n3  -0.068918 -7.929207 -8.979546 -1.129728 -0.994975 -5.469412  \n4  -1.982304 -2.291330 -4.274675 -9.136305 -7.880988 -2.477556  \n..       ...       ...       ...       ...       ...       ...  \n95 -8.451805 -5.229885 -0.851956 -8.074746 -8.634756 -9.317522  \n96 -5.265005 -5.823855 -8.006476 -5.459461 -6.348324 -2.013465  \n97 -6.261366 -0.906234 -5.690188 -6.924626 -8.210215 -1.834317  \n98 -0.323268 -8.296413 -7.520164 -6.695838 -4.845728 -0.430815  \n99 -0.456847 -1.031994 -2.264325 -4.576681 -3.670164 -5.162450  \n\n[100 rows x 84 columns]",
      "text/html": "<div>\n<style scoped>\n    .dataframe tbody tr th:only-of-type {\n        vertical-align: middle;\n    }\n\n    .dataframe tbody tr th {\n        vertical-align: top;\n    }\n\n    .dataframe thead th {\n        text-align: right;\n    }\n</style>\n<table border=\"1\" class=\"dataframe\">\n  <thead>\n    <tr style=\"text-align: right;\">\n      <th></th>\n      <th>0</th>\n      <th>1</th>\n      <th>2</th>\n      <th>3</th>\n      <th>4</th>\n      <th>5</th>\n      <th>6</th>\n      <th>7</th>\n      <th>8</th>\n      <th>9</th>\n      <th>...</th>\n      <th>74</th>\n      <th>75</th>\n      <th>76</th>\n      <th>77</th>\n      <th>78</th>\n      <th>79</th>\n      <th>80</th>\n      <th>81</th>\n      <th>82</th>\n      <th>83</th>\n    </tr>\n  </thead>\n  <tbody>\n    <tr>\n      <th>0</th>\n      <td>-1.692014</td>\n      <td>-9.680563</td>\n      <td>-6.974675</td>\n      <td>-1.556685</td>\n      <td>-2.356850</td>\n      <td>-7.795228</td>\n      <td>-0.477821</td>\n      <td>-8.734034</td>\n      <td>-7.827128</td>\n      <td>-6.024678</td>\n      <td>...</td>\n      <td>-0.697319</td>\n      <td>-6.631985</td>\n      <td>-3.335403</td>\n      <td>-6.843553</td>\n      <td>-8.460522</td>\n      <td>-9.876616</td>\n      <td>-4.536220</td>\n      <td>-1.196085</td>\n      <td>-6.109752</td>\n      <td>-4.625844</td>\n    </tr>\n    <tr>\n      <th>1</th>\n      <td>-7.409657</td>\n      <td>-5.199120</td>\n      <td>-3.057272</td>\n      <td>-5.305612</td>\n      <td>-0.661947</td>\n      <td>-1.182625</td>\n      <td>-6.293443</td>\n      <td>-2.410927</td>\n      <td>-4.612306</td>\n      <td>-4.849498</td>\n      <td>...</td>\n      <td>-3.301913</td>\n      <td>-4.171555</td>\n      <td>-6.206733</td>\n      <td>-1.859227</td>\n      <td>-5.044692</td>\n      <td>-4.490798</td>\n      <td>-7.887150</td>\n      <td>-7.844347</td>\n      <td>-8.252076</td>\n      <td>-7.125730</td>\n    </tr>\n    <tr>\n      <th>2</th>\n      <td>-7.253482</td>\n      <td>-5.217655</td>\n      <td>-9.676582</td>\n      <td>-9.822488</td>\n      <td>-7.102524</td>\n      <td>-2.254088</td>\n      <td>-0.706434</td>\n      <td>-2.739849</td>\n      <td>-7.224141</td>\n      <td>-1.535765</td>\n      <td>...</td>\n      <td>-0.253444</td>\n      <td>-0.542220</td>\n      <td>-7.842293</td>\n      <td>-4.636129</td>\n      <td>-1.302919</td>\n      <td>-1.231220</td>\n      <td>-7.726737</td>\n      <td>-2.648233</td>\n      <td>-5.721551</td>\n      <td>-6.491044</td>\n    </tr>\n    <tr>\n      <th>3</th>\n      <td>-9.601500</td>\n      <td>-8.496403</td>\n      <td>-2.434874</td>\n      <td>-7.111573</td>\n      <td>-1.751895</td>\n      <td>-8.299940</td>\n      <td>-7.662066</td>\n      <td>-0.286889</td>\n      <td>-2.855322</td>\n      <td>-4.846808</td>\n      <td>...</td>\n      <td>-2.794926</td>\n      <td>-9.399561</td>\n      <td>-8.648331</td>\n      <td>-3.107930</td>\n      <td>-0.068918</td>\n      <td>-7.929207</td>\n      <td>-8.979546</td>\n      <td>-1.129728</td>\n      <td>-0.994975</td>\n      <td>-5.469412</td>\n    </tr>\n    <tr>\n      <th>4</th>\n      <td>-7.860767</td>\n      <td>-4.398558</td>\n      <td>-4.033941</td>\n      <td>-7.047300</td>\n      <td>-5.339702</td>\n      <td>-6.960704</td>\n      <td>-0.406110</td>\n      <td>-6.429619</td>\n      <td>-9.998950</td>\n      <td>-9.413083</td>\n      <td>...</td>\n      <td>-7.676962</td>\n      <td>-1.984145</td>\n      <td>-6.919907</td>\n      <td>-0.306634</td>\n      <td>-1.982304</td>\n      <td>-2.291330</td>\n      <td>-4.274675</td>\n      <td>-9.136305</td>\n      <td>-7.880988</td>\n      <td>-2.477556</td>\n    </tr>\n    <tr>\n      <th>...</th>\n      <td>...</td>\n      <td>...</td>\n      <td>...</td>\n      <td>...</td>\n      <td>...</td>\n      <td>...</td>\n      <td>...</td>\n      <td>...</td>\n      <td>...</td>\n      <td>...</td>\n      <td>...</td>\n      <td>...</td>\n      <td>...</td>\n      <td>...</td>\n      <td>...</td>\n      <td>...</td>\n      <td>...</td>\n      <td>...</td>\n      <td>...</td>\n      <td>...</td>\n      <td>...</td>\n    </tr>\n    <tr>\n      <th>95</th>\n      <td>-5.594876</td>\n      <td>-9.531134</td>\n      <td>-0.473310</td>\n      <td>-8.035481</td>\n      <td>-2.699479</td>\n      <td>-9.450430</td>\n      <td>-3.728425</td>\n      <td>-3.255165</td>\n      <td>-8.635166</td>\n      <td>-6.751533</td>\n      <td>...</td>\n      <td>-1.235541</td>\n      <td>-7.190374</td>\n      <td>-4.521353</td>\n      <td>-1.982518</td>\n      <td>-8.451805</td>\n      <td>-5.229885</td>\n      <td>-0.851956</td>\n      <td>-8.074746</td>\n      <td>-8.634756</td>\n      <td>-9.317522</td>\n    </tr>\n    <tr>\n      <th>96</th>\n      <td>-2.710337</td>\n      <td>-9.383431</td>\n      <td>-2.160406</td>\n      <td>-3.315732</td>\n      <td>-2.259382</td>\n      <td>-8.710966</td>\n      <td>-7.725261</td>\n      <td>-9.753222</td>\n      <td>-8.922606</td>\n      <td>-3.615490</td>\n      <td>...</td>\n      <td>-2.043743</td>\n      <td>-6.202840</td>\n      <td>-7.582493</td>\n      <td>-4.494274</td>\n      <td>-5.265005</td>\n      <td>-5.823855</td>\n      <td>-8.006476</td>\n      <td>-5.459461</td>\n      <td>-6.348324</td>\n      <td>-2.013465</td>\n    </tr>\n    <tr>\n      <th>97</th>\n      <td>-5.996459</td>\n      <td>-0.901588</td>\n      <td>-0.529473</td>\n      <td>-0.538134</td>\n      <td>-8.929439</td>\n      <td>-8.617175</td>\n      <td>-3.315220</td>\n      <td>-2.047841</td>\n      <td>-4.434076</td>\n      <td>-7.178942</td>\n      <td>...</td>\n      <td>-8.071788</td>\n      <td>-1.947630</td>\n      <td>-4.963753</td>\n      <td>-8.420280</td>\n      <td>-6.261366</td>\n      <td>-0.906234</td>\n      <td>-5.690188</td>\n      <td>-6.924626</td>\n      <td>-8.210215</td>\n      <td>-1.834317</td>\n    </tr>\n    <tr>\n      <th>98</th>\n      <td>-9.976051</td>\n      <td>-4.475046</td>\n      <td>-9.566540</td>\n      <td>-2.168999</td>\n      <td>-4.924814</td>\n      <td>-3.683800</td>\n      <td>-5.263925</td>\n      <td>-4.728814</td>\n      <td>-0.490507</td>\n      <td>-6.849198</td>\n      <td>...</td>\n      <td>-9.752331</td>\n      <td>-2.868001</td>\n      <td>-0.011624</td>\n      <td>-8.042507</td>\n      <td>-0.323268</td>\n      <td>-8.296413</td>\n      <td>-7.520164</td>\n      <td>-6.695838</td>\n      <td>-4.845728</td>\n      <td>-0.430815</td>\n    </tr>\n    <tr>\n      <th>99</th>\n      <td>-4.145333</td>\n      <td>-8.988651</td>\n      <td>-2.036345</td>\n      <td>-0.983385</td>\n      <td>-2.161013</td>\n      <td>-1.363057</td>\n      <td>-6.246843</td>\n      <td>-9.762092</td>\n      <td>-9.951223</td>\n      <td>-6.270683</td>\n      <td>...</td>\n      <td>-2.077247</td>\n      <td>-5.933587</td>\n      <td>-2.047705</td>\n      <td>-3.373720</td>\n      <td>-0.456847</td>\n      <td>-1.031994</td>\n      <td>-2.264325</td>\n      <td>-4.576681</td>\n      <td>-3.670164</td>\n      <td>-5.162450</td>\n    </tr>\n  </tbody>\n</table>\n<p>100 rows × 84 columns</p>\n</div>"
     },
     "metadata": {},
     "output_type": "display_data"
    }
   ]
  },
  {
   "cell_type": "code",
   "source": [
    "res = output_result_n(animals_data, animals_name, W)\n",
    "\n",
    "res = np.array(res)\n",
    "res.reshape(2,32)\n",
    "res"
   ],
   "metadata": {
    "colab": {
     "base_uri": "https://localhost:8080/"
    },
    "id": "_iBNCsOWsNCI",
    "outputId": "5ffbd032-b3c5-49a6-969a-f09475d1b857"
   },
   "execution_count": 22,
   "outputs": [
    {
     "name": "stdout",
     "output_type": "stream",
     "text": [
      "[(44, \"'antelop\"), (36, \"'ape\"), (36, \"'bat\"), (39, \"'bear\"), (79, \"'beetle\"), (72, \"'butterfly\"), (48, \"'camel\"), (36, \"'cat\"), (55, \"'crocodile\"), (39, \"'dog\"), (77, \"'dragonfly\"), (60, \"'duck\"), (50, \"'elephant\"), (55, \"'frog\"), (48, \"'giraffe\"), (79, \"'grasshopper\"), (48, \"'hors\"), (70, \"'housefl\"), (42, \"'hyena\"), (44, \"'kangaroo\"), (36, \"'lion\"), (71, \"'moskito\"), (60, \"'ostrich\"), (60, \"'pelican\"), (60, \"'penguin\"), (48, \"'pig\"), (44, \"'rabbit\"), (43, \"'rat\"), (55, \"'seaturtle\"), (39, \"'skunk\"), (65, \"'spider\"), (53, \"'walru\")]\n"
     ]
    },
    {
     "data": {
      "text/plain": "array([['36', \"'ape\"],\n       ['36', \"'bat\"],\n       ['36', \"'cat\"],\n       ['36', \"'lion\"],\n       ['39', \"'bear\"],\n       ['39', \"'dog\"],\n       ['39', \"'skunk\"],\n       ['42', \"'hyena\"],\n       ['43', \"'rat\"],\n       ['44', \"'antelop\"],\n       ['44', \"'kangaroo\"],\n       ['44', \"'rabbit\"],\n       ['48', \"'camel\"],\n       ['48', \"'giraffe\"],\n       ['48', \"'hors\"],\n       ['48', \"'pig\"],\n       ['50', \"'elephant\"],\n       ['53', \"'walru\"],\n       ['55', \"'crocodile\"],\n       ['55', \"'frog\"],\n       ['55', \"'seaturtle\"],\n       ['60', \"'duck\"],\n       ['60', \"'ostrich\"],\n       ['60', \"'pelican\"],\n       ['60', \"'penguin\"],\n       ['65', \"'spider\"],\n       ['70', \"'housefl\"],\n       ['71', \"'moskito\"],\n       ['72', \"'butterfly\"],\n       ['77', \"'dragonfly\"],\n       ['79', \"'beetle\"],\n       ['79', \"'grasshopper\"]], dtype='<U12')"
     },
     "execution_count": 22,
     "metadata": {},
     "output_type": "execute_result"
    }
   ]
  },
  {
   "cell_type": "markdown",
   "source": [
    "4.2: Cyclic Tour :"
   ],
   "metadata": {
    "id": "SvDtx-1_ymFo"
   }
  },
  {
   "cell_type": "code",
   "source": [
    "W = np.random.random_sample((10, 2))\n",
    "n_epochs = 20\n",
    "\n",
    "for n in range(0, n_epochs):\n",
    "  for i in range(0, cities.shape[0]):\n",
    "    i_w = most_similar(cities[i], W)\n",
    "    penalty = math.floor(n/20) \n",
    "\n",
    "    neighbours = find_neighbours_1D_c(i_w, 4, 10)\n",
    "    W = update_weights(cities[i], W, neighbours, 0.05)"
   ],
   "metadata": {
    "id": "w1CWJUflyaNK"
   },
   "execution_count": 23,
   "outputs": []
  },
  {
   "cell_type": "code",
   "source": [
    "res = output_result(cities, W)"
   ],
   "metadata": {
    "id": "F0ii5S5B3S6-"
   },
   "execution_count": 24,
   "outputs": []
  },
  {
   "cell_type": "code",
   "source": [
    "cities_res = []\n",
    "\n",
    "for i in range(0,10) :\n",
    "  cities_res.append(res[i][1])\n",
    "\n",
    "cities_res = np.array(cities_res)\n",
    "cities_res.reshape(10,2)\n",
    "\n",
    "plt.plot(cities_res[:,0],cities_res[:,1], label =\"accuracy\")\n",
    "plt.show()  "
   ],
   "metadata": {
    "colab": {
     "base_uri": "https://localhost:8080/",
     "height": 265
    },
    "id": "-dCuW_SnBVI5",
    "outputId": "2a890cf9-46b7-4c43-f764-6494243c3121"
   },
   "execution_count": 25,
   "outputs": [
    {
     "data": {
      "text/plain": "<Figure size 432x288 with 1 Axes>",
      "image/png": "[encoded data removed]"
     },
     "metadata": {
      "needs_background": "light"
     },
     "output_type": "display_data"
    }
   ]
  },
  {
   "cell_type": "code",
   "source": [
    "plt.scatter(cities_res[:,0],cities_res[:,1], label =\"accuracy\")\n",
    "plt.show() "
   ],
   "metadata": {
    "colab": {
     "base_uri": "https://localhost:8080/",
     "height": 265
    },
    "id": "Edknn-3FDG_4",
    "outputId": "73895339-7cae-42fa-a347-fef92403f03a"
   },
   "execution_count": 26,
   "outputs": [
    {
     "data": {
      "text/plain": "<Figure size 432x288 with 1 Axes>",
      "image/png": "[encoded data removed]"
     },
     "metadata": {
      "needs_background": "light"
     },
     "output_type": "display_data"
    }
   ]
  },
  {
   "cell_type": "markdown",
   "source": [
    "Data Clustering: Votes of MPs"
   ],
   "metadata": {
    "id": "8ZctKIMAFUhN"
   }
  },
  {
   "cell_type": "code",
   "source": [
    "W = np.random.random_sample((100, 31))\n",
    "n_epochs = 30\n",
    "\n",
    "for n in range(0, n_epochs):\n",
    "  for i in range(0, votes.shape[0]):\n",
    "    i_w, j_w = most_similar_2D(votes[i], W, 10, 10)\n",
    "    penalty = math.floor(n*4/20) \n",
    "\n",
    "    neighbours = find_neighbours_2D(i_w, j_w, 5 - penalty, 10, 10)\n",
    "    W = update_weights_2D(votes[i], W, neighbours, 0.1)"
   ],
   "metadata": {
    "id": "yyHkmpnAGDUv"
   },
   "execution_count": 27,
   "outputs": []
  },
  {
   "cell_type": "code",
   "source": [
    "res= output_result_2D(votes, W, names, 10, 10)\n"
   ],
   "metadata": {
    "colab": {
     "base_uri": "https://localhost:8080/"
    },
    "id": "ic8Gz7TAU8Qd",
    "outputId": "dc19e9c5-67b3-4050-a404-6530ff44ae1e"
   },
   "execution_count": 28,
   "outputs": []
  },
  {
   "cell_type": "code",
   "source": [
    "np.random.seed(19680801)\n",
    "Z = [[[] for j in range(0,10)] for i in range(0, 10)]\n",
    "\n",
    "\n",
    "for i in range(0,10):\n",
    "  for j in range(0,10):\n",
    "    Z[i][j] = color_mix(res[i][j])"
   ],
   "metadata": {
    "id": "m3uXEgguRIea"
   },
   "execution_count": 34,
   "outputs": [
    {
     "ename": "TypeError",
     "evalue": "'NoneType' object is not subscriptable",
     "output_type": "error",
     "traceback": [
      "\u001B[1;31m---------------------------------------------------------------------------\u001B[0m",
      "\u001B[1;31mTypeError\u001B[0m                                 Traceback (most recent call last)",
      "Input \u001B[1;32mIn [34]\u001B[0m, in \u001B[0;36m<cell line: 5>\u001B[1;34m()\u001B[0m\n\u001B[0;32m      5\u001B[0m \u001B[38;5;28;01mfor\u001B[39;00m i \u001B[38;5;129;01min\u001B[39;00m \u001B[38;5;28mrange\u001B[39m(\u001B[38;5;241m0\u001B[39m,\u001B[38;5;241m10\u001B[39m):\n\u001B[0;32m      6\u001B[0m   \u001B[38;5;28;01mfor\u001B[39;00m j \u001B[38;5;129;01min\u001B[39;00m \u001B[38;5;28mrange\u001B[39m(\u001B[38;5;241m0\u001B[39m,\u001B[38;5;241m10\u001B[39m):\n\u001B[1;32m----> 7\u001B[0m     Z[i][j] \u001B[38;5;241m=\u001B[39m \u001B[43mcolor_mix\u001B[49m\u001B[43m(\u001B[49m\u001B[43mres\u001B[49m\u001B[43m[\u001B[49m\u001B[43mi\u001B[49m\u001B[43m]\u001B[49m\u001B[43m[\u001B[49m\u001B[43mj\u001B[49m\u001B[43m]\u001B[49m\u001B[43m)\u001B[49m\n",
      "Input \u001B[1;32mIn [18]\u001B[0m, in \u001B[0;36mcolor_mix\u001B[1;34m(color_list)\u001B[0m\n\u001B[0;32m     12\u001B[0m   cell_population \u001B[38;5;241m+\u001B[39m\u001B[38;5;241m=\u001B[39m color[\u001B[38;5;241m1\u001B[39m]\n\u001B[0;32m     15\u001B[0m first_color \u001B[38;5;241m=\u001B[39m color_list[\u001B[38;5;241m0\u001B[39m]\n\u001B[1;32m---> 16\u001B[0m mix \u001B[38;5;241m=\u001B[39m [\u001B[43mfirst_color\u001B[49m\u001B[43m[\u001B[49m\u001B[38;5;241;43m0\u001B[39;49m\u001B[43m]\u001B[49m\u001B[43m[\u001B[49m\u001B[38;5;241;43m0\u001B[39;49m\u001B[43m]\u001B[49m, first_color[\u001B[38;5;241m0\u001B[39m][\u001B[38;5;241m1\u001B[39m], first_color[\u001B[38;5;241m0\u001B[39m][\u001B[38;5;241m2\u001B[39m], first_color[\u001B[38;5;241m0\u001B[39m][\u001B[38;5;241m1\u001B[39m]\u001B[38;5;241m/\u001B[39mcell_population]\n\u001B[0;32m     17\u001B[0m mix_R \u001B[38;5;241m=\u001B[39m \u001B[38;5;241m1\u001B[39m\n\u001B[0;32m     18\u001B[0m \u001B[38;5;28;01mif\u001B[39;00m \u001B[38;5;28mlen\u001B[39m(color_list) \u001B[38;5;241m>\u001B[39m \u001B[38;5;241m1\u001B[39m :\n",
      "\u001B[1;31mTypeError\u001B[0m: 'NoneType' object is not subscriptable"
     ]
    }
   ]
  },
  {
   "cell_type": "code",
   "source": [
    "plt.imshow(Z, interpolation='nearest')\n",
    "plt.show()"
   ],
   "metadata": {
    "id": "WfeE6HRzjv7a",
    "outputId": "ec57a142-be9f-4be0-9ecf-f396eba603c3",
    "colab": {
     "base_uri": "https://localhost:8080/",
     "height": 265
    }
   },
   "execution_count": 35,
   "outputs": [
    {
     "ename": "TypeError",
     "evalue": "Invalid shape (10, 10, 0) for image data",
     "output_type": "error",
     "traceback": [
      "\u001B[1;31m---------------------------------------------------------------------------\u001B[0m",
      "\u001B[1;31mTypeError\u001B[0m                                 Traceback (most recent call last)",
      "Input \u001B[1;32mIn [35]\u001B[0m, in \u001B[0;36m<cell line: 1>\u001B[1;34m()\u001B[0m\n\u001B[1;32m----> 1\u001B[0m \u001B[43mplt\u001B[49m\u001B[38;5;241;43m.\u001B[39;49m\u001B[43mimshow\u001B[49m\u001B[43m(\u001B[49m\u001B[43mZ\u001B[49m\u001B[43m,\u001B[49m\u001B[43m \u001B[49m\u001B[43minterpolation\u001B[49m\u001B[38;5;241;43m=\u001B[39;49m\u001B[38;5;124;43m'\u001B[39;49m\u001B[38;5;124;43mnearest\u001B[39;49m\u001B[38;5;124;43m'\u001B[39;49m\u001B[43m)\u001B[49m\n\u001B[0;32m      2\u001B[0m plt\u001B[38;5;241m.\u001B[39mshow()\n",
      "File \u001B[1;32m~\\anaconda3\\envs\\spaicer\\lib\\site-packages\\matplotlib\\_api\\deprecation.py:456\u001B[0m, in \u001B[0;36mmake_keyword_only.<locals>.wrapper\u001B[1;34m(*args, **kwargs)\u001B[0m\n\u001B[0;32m    450\u001B[0m \u001B[38;5;28;01mif\u001B[39;00m \u001B[38;5;28mlen\u001B[39m(args) \u001B[38;5;241m>\u001B[39m name_idx:\n\u001B[0;32m    451\u001B[0m     warn_deprecated(\n\u001B[0;32m    452\u001B[0m         since, message\u001B[38;5;241m=\u001B[39m\u001B[38;5;124m\"\u001B[39m\u001B[38;5;124mPassing the \u001B[39m\u001B[38;5;132;01m%(name)s\u001B[39;00m\u001B[38;5;124m \u001B[39m\u001B[38;5;132;01m%(obj_type)s\u001B[39;00m\u001B[38;5;124m \u001B[39m\u001B[38;5;124m\"\u001B[39m\n\u001B[0;32m    453\u001B[0m         \u001B[38;5;124m\"\u001B[39m\u001B[38;5;124mpositionally is deprecated since Matplotlib \u001B[39m\u001B[38;5;132;01m%(since)s\u001B[39;00m\u001B[38;5;124m; the \u001B[39m\u001B[38;5;124m\"\u001B[39m\n\u001B[0;32m    454\u001B[0m         \u001B[38;5;124m\"\u001B[39m\u001B[38;5;124mparameter will become keyword-only \u001B[39m\u001B[38;5;132;01m%(removal)s\u001B[39;00m\u001B[38;5;124m.\u001B[39m\u001B[38;5;124m\"\u001B[39m,\n\u001B[0;32m    455\u001B[0m         name\u001B[38;5;241m=\u001B[39mname, obj_type\u001B[38;5;241m=\u001B[39m\u001B[38;5;124mf\u001B[39m\u001B[38;5;124m\"\u001B[39m\u001B[38;5;124mparameter of \u001B[39m\u001B[38;5;132;01m{\u001B[39;00mfunc\u001B[38;5;241m.\u001B[39m\u001B[38;5;18m__name__\u001B[39m\u001B[38;5;132;01m}\u001B[39;00m\u001B[38;5;124m()\u001B[39m\u001B[38;5;124m\"\u001B[39m)\n\u001B[1;32m--> 456\u001B[0m \u001B[38;5;28;01mreturn\u001B[39;00m func(\u001B[38;5;241m*\u001B[39margs, \u001B[38;5;241m*\u001B[39m\u001B[38;5;241m*\u001B[39mkwargs)\n",
      "File \u001B[1;32m~\\anaconda3\\envs\\spaicer\\lib\\site-packages\\matplotlib\\pyplot.py:2640\u001B[0m, in \u001B[0;36mimshow\u001B[1;34m(X, cmap, norm, aspect, interpolation, alpha, vmin, vmax, origin, extent, interpolation_stage, filternorm, filterrad, resample, url, data, **kwargs)\u001B[0m\n\u001B[0;32m   2634\u001B[0m \u001B[38;5;129m@_copy_docstring_and_deprecators\u001B[39m(Axes\u001B[38;5;241m.\u001B[39mimshow)\n\u001B[0;32m   2635\u001B[0m \u001B[38;5;28;01mdef\u001B[39;00m \u001B[38;5;21mimshow\u001B[39m(\n\u001B[0;32m   2636\u001B[0m         X, cmap\u001B[38;5;241m=\u001B[39m\u001B[38;5;28;01mNone\u001B[39;00m, norm\u001B[38;5;241m=\u001B[39m\u001B[38;5;28;01mNone\u001B[39;00m, aspect\u001B[38;5;241m=\u001B[39m\u001B[38;5;28;01mNone\u001B[39;00m, interpolation\u001B[38;5;241m=\u001B[39m\u001B[38;5;28;01mNone\u001B[39;00m,\n\u001B[0;32m   2637\u001B[0m         alpha\u001B[38;5;241m=\u001B[39m\u001B[38;5;28;01mNone\u001B[39;00m, vmin\u001B[38;5;241m=\u001B[39m\u001B[38;5;28;01mNone\u001B[39;00m, vmax\u001B[38;5;241m=\u001B[39m\u001B[38;5;28;01mNone\u001B[39;00m, origin\u001B[38;5;241m=\u001B[39m\u001B[38;5;28;01mNone\u001B[39;00m, extent\u001B[38;5;241m=\u001B[39m\u001B[38;5;28;01mNone\u001B[39;00m, \u001B[38;5;241m*\u001B[39m,\n\u001B[0;32m   2638\u001B[0m         interpolation_stage\u001B[38;5;241m=\u001B[39m\u001B[38;5;28;01mNone\u001B[39;00m, filternorm\u001B[38;5;241m=\u001B[39m\u001B[38;5;28;01mTrue\u001B[39;00m, filterrad\u001B[38;5;241m=\u001B[39m\u001B[38;5;241m4.0\u001B[39m,\n\u001B[0;32m   2639\u001B[0m         resample\u001B[38;5;241m=\u001B[39m\u001B[38;5;28;01mNone\u001B[39;00m, url\u001B[38;5;241m=\u001B[39m\u001B[38;5;28;01mNone\u001B[39;00m, data\u001B[38;5;241m=\u001B[39m\u001B[38;5;28;01mNone\u001B[39;00m, \u001B[38;5;241m*\u001B[39m\u001B[38;5;241m*\u001B[39mkwargs):\n\u001B[1;32m-> 2640\u001B[0m     __ret \u001B[38;5;241m=\u001B[39m gca()\u001B[38;5;241m.\u001B[39mimshow(\n\u001B[0;32m   2641\u001B[0m         X, cmap\u001B[38;5;241m=\u001B[39mcmap, norm\u001B[38;5;241m=\u001B[39mnorm, aspect\u001B[38;5;241m=\u001B[39maspect,\n\u001B[0;32m   2642\u001B[0m         interpolation\u001B[38;5;241m=\u001B[39minterpolation, alpha\u001B[38;5;241m=\u001B[39malpha, vmin\u001B[38;5;241m=\u001B[39mvmin,\n\u001B[0;32m   2643\u001B[0m         vmax\u001B[38;5;241m=\u001B[39mvmax, origin\u001B[38;5;241m=\u001B[39morigin, extent\u001B[38;5;241m=\u001B[39mextent,\n\u001B[0;32m   2644\u001B[0m         interpolation_stage\u001B[38;5;241m=\u001B[39minterpolation_stage,\n\u001B[0;32m   2645\u001B[0m         filternorm\u001B[38;5;241m=\u001B[39mfilternorm, filterrad\u001B[38;5;241m=\u001B[39mfilterrad, resample\u001B[38;5;241m=\u001B[39mresample,\n\u001B[0;32m   2646\u001B[0m         url\u001B[38;5;241m=\u001B[39murl, \u001B[38;5;241m*\u001B[39m\u001B[38;5;241m*\u001B[39m({\u001B[38;5;124m\"\u001B[39m\u001B[38;5;124mdata\u001B[39m\u001B[38;5;124m\"\u001B[39m: data} \u001B[38;5;28;01mif\u001B[39;00m data \u001B[38;5;129;01mis\u001B[39;00m \u001B[38;5;129;01mnot\u001B[39;00m \u001B[38;5;28;01mNone\u001B[39;00m \u001B[38;5;28;01melse\u001B[39;00m {}),\n\u001B[0;32m   2647\u001B[0m         \u001B[38;5;241m*\u001B[39m\u001B[38;5;241m*\u001B[39mkwargs)\n\u001B[0;32m   2648\u001B[0m     sci(__ret)\n\u001B[0;32m   2649\u001B[0m     \u001B[38;5;28;01mreturn\u001B[39;00m __ret\n",
      "File \u001B[1;32m~\\anaconda3\\envs\\spaicer\\lib\\site-packages\\matplotlib\\_api\\deprecation.py:456\u001B[0m, in \u001B[0;36mmake_keyword_only.<locals>.wrapper\u001B[1;34m(*args, **kwargs)\u001B[0m\n\u001B[0;32m    450\u001B[0m \u001B[38;5;28;01mif\u001B[39;00m \u001B[38;5;28mlen\u001B[39m(args) \u001B[38;5;241m>\u001B[39m name_idx:\n\u001B[0;32m    451\u001B[0m     warn_deprecated(\n\u001B[0;32m    452\u001B[0m         since, message\u001B[38;5;241m=\u001B[39m\u001B[38;5;124m\"\u001B[39m\u001B[38;5;124mPassing the \u001B[39m\u001B[38;5;132;01m%(name)s\u001B[39;00m\u001B[38;5;124m \u001B[39m\u001B[38;5;132;01m%(obj_type)s\u001B[39;00m\u001B[38;5;124m \u001B[39m\u001B[38;5;124m\"\u001B[39m\n\u001B[0;32m    453\u001B[0m         \u001B[38;5;124m\"\u001B[39m\u001B[38;5;124mpositionally is deprecated since Matplotlib \u001B[39m\u001B[38;5;132;01m%(since)s\u001B[39;00m\u001B[38;5;124m; the \u001B[39m\u001B[38;5;124m\"\u001B[39m\n\u001B[0;32m    454\u001B[0m         \u001B[38;5;124m\"\u001B[39m\u001B[38;5;124mparameter will become keyword-only \u001B[39m\u001B[38;5;132;01m%(removal)s\u001B[39;00m\u001B[38;5;124m.\u001B[39m\u001B[38;5;124m\"\u001B[39m,\n\u001B[0;32m    455\u001B[0m         name\u001B[38;5;241m=\u001B[39mname, obj_type\u001B[38;5;241m=\u001B[39m\u001B[38;5;124mf\u001B[39m\u001B[38;5;124m\"\u001B[39m\u001B[38;5;124mparameter of \u001B[39m\u001B[38;5;132;01m{\u001B[39;00mfunc\u001B[38;5;241m.\u001B[39m\u001B[38;5;18m__name__\u001B[39m\u001B[38;5;132;01m}\u001B[39;00m\u001B[38;5;124m()\u001B[39m\u001B[38;5;124m\"\u001B[39m)\n\u001B[1;32m--> 456\u001B[0m \u001B[38;5;28;01mreturn\u001B[39;00m func(\u001B[38;5;241m*\u001B[39margs, \u001B[38;5;241m*\u001B[39m\u001B[38;5;241m*\u001B[39mkwargs)\n",
      "File \u001B[1;32m~\\anaconda3\\envs\\spaicer\\lib\\site-packages\\matplotlib\\__init__.py:1412\u001B[0m, in \u001B[0;36m_preprocess_data.<locals>.inner\u001B[1;34m(ax, data, *args, **kwargs)\u001B[0m\n\u001B[0;32m   1409\u001B[0m \u001B[38;5;129m@functools\u001B[39m\u001B[38;5;241m.\u001B[39mwraps(func)\n\u001B[0;32m   1410\u001B[0m \u001B[38;5;28;01mdef\u001B[39;00m \u001B[38;5;21minner\u001B[39m(ax, \u001B[38;5;241m*\u001B[39margs, data\u001B[38;5;241m=\u001B[39m\u001B[38;5;28;01mNone\u001B[39;00m, \u001B[38;5;241m*\u001B[39m\u001B[38;5;241m*\u001B[39mkwargs):\n\u001B[0;32m   1411\u001B[0m     \u001B[38;5;28;01mif\u001B[39;00m data \u001B[38;5;129;01mis\u001B[39;00m \u001B[38;5;28;01mNone\u001B[39;00m:\n\u001B[1;32m-> 1412\u001B[0m         \u001B[38;5;28;01mreturn\u001B[39;00m func(ax, \u001B[38;5;241m*\u001B[39m\u001B[38;5;28mmap\u001B[39m(sanitize_sequence, args), \u001B[38;5;241m*\u001B[39m\u001B[38;5;241m*\u001B[39mkwargs)\n\u001B[0;32m   1414\u001B[0m     bound \u001B[38;5;241m=\u001B[39m new_sig\u001B[38;5;241m.\u001B[39mbind(ax, \u001B[38;5;241m*\u001B[39margs, \u001B[38;5;241m*\u001B[39m\u001B[38;5;241m*\u001B[39mkwargs)\n\u001B[0;32m   1415\u001B[0m     auto_label \u001B[38;5;241m=\u001B[39m (bound\u001B[38;5;241m.\u001B[39marguments\u001B[38;5;241m.\u001B[39mget(label_namer)\n\u001B[0;32m   1416\u001B[0m                   \u001B[38;5;129;01mor\u001B[39;00m bound\u001B[38;5;241m.\u001B[39mkwargs\u001B[38;5;241m.\u001B[39mget(label_namer))\n",
      "File \u001B[1;32m~\\anaconda3\\envs\\spaicer\\lib\\site-packages\\matplotlib\\axes\\_axes.py:5488\u001B[0m, in \u001B[0;36mAxes.imshow\u001B[1;34m(self, X, cmap, norm, aspect, interpolation, alpha, vmin, vmax, origin, extent, interpolation_stage, filternorm, filterrad, resample, url, **kwargs)\u001B[0m\n\u001B[0;32m   5481\u001B[0m \u001B[38;5;28mself\u001B[39m\u001B[38;5;241m.\u001B[39mset_aspect(aspect)\n\u001B[0;32m   5482\u001B[0m im \u001B[38;5;241m=\u001B[39m mimage\u001B[38;5;241m.\u001B[39mAxesImage(\u001B[38;5;28mself\u001B[39m, cmap, norm, interpolation,\n\u001B[0;32m   5483\u001B[0m                       origin, extent, filternorm\u001B[38;5;241m=\u001B[39mfilternorm,\n\u001B[0;32m   5484\u001B[0m                       filterrad\u001B[38;5;241m=\u001B[39mfilterrad, resample\u001B[38;5;241m=\u001B[39mresample,\n\u001B[0;32m   5485\u001B[0m                       interpolation_stage\u001B[38;5;241m=\u001B[39minterpolation_stage,\n\u001B[0;32m   5486\u001B[0m                       \u001B[38;5;241m*\u001B[39m\u001B[38;5;241m*\u001B[39mkwargs)\n\u001B[1;32m-> 5488\u001B[0m \u001B[43mim\u001B[49m\u001B[38;5;241;43m.\u001B[39;49m\u001B[43mset_data\u001B[49m\u001B[43m(\u001B[49m\u001B[43mX\u001B[49m\u001B[43m)\u001B[49m\n\u001B[0;32m   5489\u001B[0m im\u001B[38;5;241m.\u001B[39mset_alpha(alpha)\n\u001B[0;32m   5490\u001B[0m \u001B[38;5;28;01mif\u001B[39;00m im\u001B[38;5;241m.\u001B[39mget_clip_path() \u001B[38;5;129;01mis\u001B[39;00m \u001B[38;5;28;01mNone\u001B[39;00m:\n\u001B[0;32m   5491\u001B[0m     \u001B[38;5;66;03m# image does not already have clipping set, clip to axes patch\u001B[39;00m\n",
      "File \u001B[1;32m~\\anaconda3\\envs\\spaicer\\lib\\site-packages\\matplotlib\\image.py:715\u001B[0m, in \u001B[0;36m_ImageBase.set_data\u001B[1;34m(self, A)\u001B[0m\n\u001B[0;32m    711\u001B[0m     \u001B[38;5;28mself\u001B[39m\u001B[38;5;241m.\u001B[39m_A \u001B[38;5;241m=\u001B[39m \u001B[38;5;28mself\u001B[39m\u001B[38;5;241m.\u001B[39m_A[:, :, \u001B[38;5;241m0\u001B[39m]\n\u001B[0;32m    713\u001B[0m \u001B[38;5;28;01mif\u001B[39;00m \u001B[38;5;129;01mnot\u001B[39;00m (\u001B[38;5;28mself\u001B[39m\u001B[38;5;241m.\u001B[39m_A\u001B[38;5;241m.\u001B[39mndim \u001B[38;5;241m==\u001B[39m \u001B[38;5;241m2\u001B[39m\n\u001B[0;32m    714\u001B[0m         \u001B[38;5;129;01mor\u001B[39;00m \u001B[38;5;28mself\u001B[39m\u001B[38;5;241m.\u001B[39m_A\u001B[38;5;241m.\u001B[39mndim \u001B[38;5;241m==\u001B[39m \u001B[38;5;241m3\u001B[39m \u001B[38;5;129;01mand\u001B[39;00m \u001B[38;5;28mself\u001B[39m\u001B[38;5;241m.\u001B[39m_A\u001B[38;5;241m.\u001B[39mshape[\u001B[38;5;241m-\u001B[39m\u001B[38;5;241m1\u001B[39m] \u001B[38;5;129;01min\u001B[39;00m [\u001B[38;5;241m3\u001B[39m, \u001B[38;5;241m4\u001B[39m]):\n\u001B[1;32m--> 715\u001B[0m     \u001B[38;5;28;01mraise\u001B[39;00m \u001B[38;5;167;01mTypeError\u001B[39;00m(\u001B[38;5;124m\"\u001B[39m\u001B[38;5;124mInvalid shape \u001B[39m\u001B[38;5;132;01m{}\u001B[39;00m\u001B[38;5;124m for image data\u001B[39m\u001B[38;5;124m\"\u001B[39m\n\u001B[0;32m    716\u001B[0m                     \u001B[38;5;241m.\u001B[39mformat(\u001B[38;5;28mself\u001B[39m\u001B[38;5;241m.\u001B[39m_A\u001B[38;5;241m.\u001B[39mshape))\n\u001B[0;32m    718\u001B[0m \u001B[38;5;28;01mif\u001B[39;00m \u001B[38;5;28mself\u001B[39m\u001B[38;5;241m.\u001B[39m_A\u001B[38;5;241m.\u001B[39mndim \u001B[38;5;241m==\u001B[39m \u001B[38;5;241m3\u001B[39m:\n\u001B[0;32m    719\u001B[0m     \u001B[38;5;66;03m# If the input data has values outside the valid range (after\u001B[39;00m\n\u001B[0;32m    720\u001B[0m     \u001B[38;5;66;03m# normalisation), we issue a warning and then clip X to the bounds\u001B[39;00m\n\u001B[0;32m    721\u001B[0m     \u001B[38;5;66;03m# - otherwise casting wraps extreme values, hiding outliers and\u001B[39;00m\n\u001B[0;32m    722\u001B[0m     \u001B[38;5;66;03m# making reliable interpretation impossible.\u001B[39;00m\n\u001B[0;32m    723\u001B[0m     high \u001B[38;5;241m=\u001B[39m \u001B[38;5;241m255\u001B[39m \u001B[38;5;28;01mif\u001B[39;00m np\u001B[38;5;241m.\u001B[39missubdtype(\u001B[38;5;28mself\u001B[39m\u001B[38;5;241m.\u001B[39m_A\u001B[38;5;241m.\u001B[39mdtype, np\u001B[38;5;241m.\u001B[39minteger) \u001B[38;5;28;01melse\u001B[39;00m \u001B[38;5;241m1\u001B[39m\n",
      "\u001B[1;31mTypeError\u001B[0m: Invalid shape (10, 10, 0) for image data"
     ]
    },
    {
     "data": {
      "text/plain": "<Figure size 432x288 with 1 Axes>",
      "image/png": "[encoded data removed]"
     },
     "metadata": {
      "needs_background": "light"
     },
     "output_type": "display_data"
    }
   ]
  },
  {
   "cell_type": "code",
   "source": [
    "fig, ax = plt.subplots()\n",
    "\n",
    "count = [names[0], names[1], names[2], names[3], names[4], names[5], names[6], names[7]]\n",
    "party_n = [0, 1, 2, 3, 4, 5, 6, 7]\n",
    "\n",
    "party = {'No party', 'Moderate', 'Liberal', 'Social Democrats', 'Vanspartiet', 'Ecology', 'Christian Democracy', 'Center'}\n",
    "colors = [(0,0,0),(204/255,1/255,1/255),(204/255,1/255,204/255),(204/255,204/255,1/255),(102/255,204/255,1/255),(1/255,1/255,102/255),(200/255,104/255,1/255),(1/255,204/255,204/255)]\n",
    "\n",
    "\n",
    "axis = ax.bar(party_n, count, label=party, color=colors)\n",
    "\n",
    "ax.set_ylabel('fruit supply')\n",
    "ax.set_title('Party disctribution')\n",
    "plt.legend(iter(axis), party)\n",
    "\n",
    "plt.show()"
   ],
   "metadata": {
    "colab": {
     "base_uri": "https://localhost:8080/",
     "height": 632
    },
    "id": "_JUtcEi6J88f",
    "outputId": "08c38be4-6f25-4561-92c4-e9424fb6254a"
   },
   "execution_count": 36,
   "outputs": [
    {
     "ename": "TypeError",
     "evalue": "unhashable type: 'numpy.ndarray'",
     "output_type": "error",
     "traceback": [
      "\u001B[1;31m---------------------------------------------------------------------------\u001B[0m",
      "\u001B[1;31mTypeError\u001B[0m                                 Traceback (most recent call last)",
      "Input \u001B[1;32mIn [36]\u001B[0m, in \u001B[0;36m<cell line: 10>\u001B[1;34m()\u001B[0m\n\u001B[0;32m      6\u001B[0m party \u001B[38;5;241m=\u001B[39m {\u001B[38;5;124m'\u001B[39m\u001B[38;5;124mNo party\u001B[39m\u001B[38;5;124m'\u001B[39m, \u001B[38;5;124m'\u001B[39m\u001B[38;5;124mModerate\u001B[39m\u001B[38;5;124m'\u001B[39m, \u001B[38;5;124m'\u001B[39m\u001B[38;5;124mLiberal\u001B[39m\u001B[38;5;124m'\u001B[39m, \u001B[38;5;124m'\u001B[39m\u001B[38;5;124mSocial Democrats\u001B[39m\u001B[38;5;124m'\u001B[39m, \u001B[38;5;124m'\u001B[39m\u001B[38;5;124mVanspartiet\u001B[39m\u001B[38;5;124m'\u001B[39m, \u001B[38;5;124m'\u001B[39m\u001B[38;5;124mEcology\u001B[39m\u001B[38;5;124m'\u001B[39m, \u001B[38;5;124m'\u001B[39m\u001B[38;5;124mChristian Democracy\u001B[39m\u001B[38;5;124m'\u001B[39m, \u001B[38;5;124m'\u001B[39m\u001B[38;5;124mCenter\u001B[39m\u001B[38;5;124m'\u001B[39m}\n\u001B[0;32m      7\u001B[0m colors \u001B[38;5;241m=\u001B[39m [(\u001B[38;5;241m0\u001B[39m,\u001B[38;5;241m0\u001B[39m,\u001B[38;5;241m0\u001B[39m),(\u001B[38;5;241m204\u001B[39m\u001B[38;5;241m/\u001B[39m\u001B[38;5;241m255\u001B[39m,\u001B[38;5;241m1\u001B[39m\u001B[38;5;241m/\u001B[39m\u001B[38;5;241m255\u001B[39m,\u001B[38;5;241m1\u001B[39m\u001B[38;5;241m/\u001B[39m\u001B[38;5;241m255\u001B[39m),(\u001B[38;5;241m204\u001B[39m\u001B[38;5;241m/\u001B[39m\u001B[38;5;241m255\u001B[39m,\u001B[38;5;241m1\u001B[39m\u001B[38;5;241m/\u001B[39m\u001B[38;5;241m255\u001B[39m,\u001B[38;5;241m204\u001B[39m\u001B[38;5;241m/\u001B[39m\u001B[38;5;241m255\u001B[39m),(\u001B[38;5;241m204\u001B[39m\u001B[38;5;241m/\u001B[39m\u001B[38;5;241m255\u001B[39m,\u001B[38;5;241m204\u001B[39m\u001B[38;5;241m/\u001B[39m\u001B[38;5;241m255\u001B[39m,\u001B[38;5;241m1\u001B[39m\u001B[38;5;241m/\u001B[39m\u001B[38;5;241m255\u001B[39m),(\u001B[38;5;241m102\u001B[39m\u001B[38;5;241m/\u001B[39m\u001B[38;5;241m255\u001B[39m,\u001B[38;5;241m204\u001B[39m\u001B[38;5;241m/\u001B[39m\u001B[38;5;241m255\u001B[39m,\u001B[38;5;241m1\u001B[39m\u001B[38;5;241m/\u001B[39m\u001B[38;5;241m255\u001B[39m),(\u001B[38;5;241m1\u001B[39m\u001B[38;5;241m/\u001B[39m\u001B[38;5;241m255\u001B[39m,\u001B[38;5;241m1\u001B[39m\u001B[38;5;241m/\u001B[39m\u001B[38;5;241m255\u001B[39m,\u001B[38;5;241m102\u001B[39m\u001B[38;5;241m/\u001B[39m\u001B[38;5;241m255\u001B[39m),(\u001B[38;5;241m200\u001B[39m\u001B[38;5;241m/\u001B[39m\u001B[38;5;241m255\u001B[39m,\u001B[38;5;241m104\u001B[39m\u001B[38;5;241m/\u001B[39m\u001B[38;5;241m255\u001B[39m,\u001B[38;5;241m1\u001B[39m\u001B[38;5;241m/\u001B[39m\u001B[38;5;241m255\u001B[39m),(\u001B[38;5;241m1\u001B[39m\u001B[38;5;241m/\u001B[39m\u001B[38;5;241m255\u001B[39m,\u001B[38;5;241m204\u001B[39m\u001B[38;5;241m/\u001B[39m\u001B[38;5;241m255\u001B[39m,\u001B[38;5;241m204\u001B[39m\u001B[38;5;241m/\u001B[39m\u001B[38;5;241m255\u001B[39m)]\n\u001B[1;32m---> 10\u001B[0m axis \u001B[38;5;241m=\u001B[39m \u001B[43max\u001B[49m\u001B[38;5;241;43m.\u001B[39;49m\u001B[43mbar\u001B[49m\u001B[43m(\u001B[49m\u001B[43mparty_n\u001B[49m\u001B[43m,\u001B[49m\u001B[43m \u001B[49m\u001B[43mcount\u001B[49m\u001B[43m,\u001B[49m\u001B[43m \u001B[49m\u001B[43mlabel\u001B[49m\u001B[38;5;241;43m=\u001B[39;49m\u001B[43mparty\u001B[49m\u001B[43m,\u001B[49m\u001B[43m \u001B[49m\u001B[43mcolor\u001B[49m\u001B[38;5;241;43m=\u001B[39;49m\u001B[43mcolors\u001B[49m\u001B[43m)\u001B[49m\n\u001B[0;32m     12\u001B[0m ax\u001B[38;5;241m.\u001B[39mset_ylabel(\u001B[38;5;124m'\u001B[39m\u001B[38;5;124mfruit supply\u001B[39m\u001B[38;5;124m'\u001B[39m)\n\u001B[0;32m     13\u001B[0m ax\u001B[38;5;241m.\u001B[39mset_title(\u001B[38;5;124m'\u001B[39m\u001B[38;5;124mParty disctribution\u001B[39m\u001B[38;5;124m'\u001B[39m)\n",
      "File \u001B[1;32m~\\anaconda3\\envs\\spaicer\\lib\\site-packages\\matplotlib\\__init__.py:1412\u001B[0m, in \u001B[0;36m_preprocess_data.<locals>.inner\u001B[1;34m(ax, data, *args, **kwargs)\u001B[0m\n\u001B[0;32m   1409\u001B[0m \u001B[38;5;129m@functools\u001B[39m\u001B[38;5;241m.\u001B[39mwraps(func)\n\u001B[0;32m   1410\u001B[0m \u001B[38;5;28;01mdef\u001B[39;00m \u001B[38;5;21minner\u001B[39m(ax, \u001B[38;5;241m*\u001B[39margs, data\u001B[38;5;241m=\u001B[39m\u001B[38;5;28;01mNone\u001B[39;00m, \u001B[38;5;241m*\u001B[39m\u001B[38;5;241m*\u001B[39mkwargs):\n\u001B[0;32m   1411\u001B[0m     \u001B[38;5;28;01mif\u001B[39;00m data \u001B[38;5;129;01mis\u001B[39;00m \u001B[38;5;28;01mNone\u001B[39;00m:\n\u001B[1;32m-> 1412\u001B[0m         \u001B[38;5;28;01mreturn\u001B[39;00m func(ax, \u001B[38;5;241m*\u001B[39m\u001B[38;5;28mmap\u001B[39m(sanitize_sequence, args), \u001B[38;5;241m*\u001B[39m\u001B[38;5;241m*\u001B[39mkwargs)\n\u001B[0;32m   1414\u001B[0m     bound \u001B[38;5;241m=\u001B[39m new_sig\u001B[38;5;241m.\u001B[39mbind(ax, \u001B[38;5;241m*\u001B[39margs, \u001B[38;5;241m*\u001B[39m\u001B[38;5;241m*\u001B[39mkwargs)\n\u001B[0;32m   1415\u001B[0m     auto_label \u001B[38;5;241m=\u001B[39m (bound\u001B[38;5;241m.\u001B[39marguments\u001B[38;5;241m.\u001B[39mget(label_namer)\n\u001B[0;32m   1416\u001B[0m                   \u001B[38;5;129;01mor\u001B[39;00m bound\u001B[38;5;241m.\u001B[39mkwargs\u001B[38;5;241m.\u001B[39mget(label_namer))\n",
      "File \u001B[1;32m~\\anaconda3\\envs\\spaicer\\lib\\site-packages\\matplotlib\\axes\\_axes.py:2317\u001B[0m, in \u001B[0;36mAxes.bar\u001B[1;34m(self, x, height, width, bottom, align, **kwargs)\u001B[0m\n\u001B[0;32m   2314\u001B[0m         x \u001B[38;5;241m=\u001B[39m \u001B[38;5;241m0\u001B[39m\n\u001B[0;32m   2316\u001B[0m \u001B[38;5;28;01mif\u001B[39;00m orientation \u001B[38;5;241m==\u001B[39m \u001B[38;5;124m'\u001B[39m\u001B[38;5;124mvertical\u001B[39m\u001B[38;5;124m'\u001B[39m:\n\u001B[1;32m-> 2317\u001B[0m     \u001B[38;5;28;43mself\u001B[39;49m\u001B[38;5;241;43m.\u001B[39;49m\u001B[43m_process_unit_info\u001B[49m\u001B[43m(\u001B[49m\n\u001B[0;32m   2318\u001B[0m \u001B[43m        \u001B[49m\u001B[43m[\u001B[49m\u001B[43m(\u001B[49m\u001B[38;5;124;43m\"\u001B[39;49m\u001B[38;5;124;43mx\u001B[39;49m\u001B[38;5;124;43m\"\u001B[39;49m\u001B[43m,\u001B[49m\u001B[43m \u001B[49m\u001B[43mx\u001B[49m\u001B[43m)\u001B[49m\u001B[43m,\u001B[49m\u001B[43m \u001B[49m\u001B[43m(\u001B[49m\u001B[38;5;124;43m\"\u001B[39;49m\u001B[38;5;124;43my\u001B[39;49m\u001B[38;5;124;43m\"\u001B[39;49m\u001B[43m,\u001B[49m\u001B[43m \u001B[49m\u001B[43mheight\u001B[49m\u001B[43m)\u001B[49m\u001B[43m]\u001B[49m\u001B[43m,\u001B[49m\u001B[43m \u001B[49m\u001B[43mkwargs\u001B[49m\u001B[43m,\u001B[49m\u001B[43m \u001B[49m\u001B[43mconvert\u001B[49m\u001B[38;5;241;43m=\u001B[39;49m\u001B[38;5;28;43;01mFalse\u001B[39;49;00m\u001B[43m)\u001B[49m\n\u001B[0;32m   2319\u001B[0m     \u001B[38;5;28;01mif\u001B[39;00m log:\n\u001B[0;32m   2320\u001B[0m         \u001B[38;5;28mself\u001B[39m\u001B[38;5;241m.\u001B[39mset_yscale(\u001B[38;5;124m'\u001B[39m\u001B[38;5;124mlog\u001B[39m\u001B[38;5;124m'\u001B[39m, nonpositive\u001B[38;5;241m=\u001B[39m\u001B[38;5;124m'\u001B[39m\u001B[38;5;124mclip\u001B[39m\u001B[38;5;124m'\u001B[39m)\n",
      "File \u001B[1;32m~\\anaconda3\\envs\\spaicer\\lib\\site-packages\\matplotlib\\axes\\_base.py:2521\u001B[0m, in \u001B[0;36m_AxesBase._process_unit_info\u001B[1;34m(self, datasets, kwargs, convert)\u001B[0m\n\u001B[0;32m   2519\u001B[0m     \u001B[38;5;66;03m# Update from data if axis is already set but no unit is set yet.\u001B[39;00m\n\u001B[0;32m   2520\u001B[0m     \u001B[38;5;28;01mif\u001B[39;00m axis \u001B[38;5;129;01mis\u001B[39;00m \u001B[38;5;129;01mnot\u001B[39;00m \u001B[38;5;28;01mNone\u001B[39;00m \u001B[38;5;129;01mand\u001B[39;00m data \u001B[38;5;129;01mis\u001B[39;00m \u001B[38;5;129;01mnot\u001B[39;00m \u001B[38;5;28;01mNone\u001B[39;00m \u001B[38;5;129;01mand\u001B[39;00m \u001B[38;5;129;01mnot\u001B[39;00m axis\u001B[38;5;241m.\u001B[39mhave_units():\n\u001B[1;32m-> 2521\u001B[0m         \u001B[43maxis\u001B[49m\u001B[38;5;241;43m.\u001B[39;49m\u001B[43mupdate_units\u001B[49m\u001B[43m(\u001B[49m\u001B[43mdata\u001B[49m\u001B[43m)\u001B[49m\n\u001B[0;32m   2522\u001B[0m \u001B[38;5;28;01mfor\u001B[39;00m axis_name, axis \u001B[38;5;129;01min\u001B[39;00m axis_map\u001B[38;5;241m.\u001B[39mitems():\n\u001B[0;32m   2523\u001B[0m     \u001B[38;5;66;03m# Return if no axis is set.\u001B[39;00m\n\u001B[0;32m   2524\u001B[0m     \u001B[38;5;28;01mif\u001B[39;00m axis \u001B[38;5;129;01mis\u001B[39;00m \u001B[38;5;28;01mNone\u001B[39;00m:\n",
      "File \u001B[1;32m~\\anaconda3\\envs\\spaicer\\lib\\site-packages\\matplotlib\\axis.py:1449\u001B[0m, in \u001B[0;36mAxis.update_units\u001B[1;34m(self, data)\u001B[0m\n\u001B[0;32m   1447\u001B[0m neednew \u001B[38;5;241m=\u001B[39m \u001B[38;5;28mself\u001B[39m\u001B[38;5;241m.\u001B[39mconverter \u001B[38;5;241m!=\u001B[39m converter\n\u001B[0;32m   1448\u001B[0m \u001B[38;5;28mself\u001B[39m\u001B[38;5;241m.\u001B[39mconverter \u001B[38;5;241m=\u001B[39m converter\n\u001B[1;32m-> 1449\u001B[0m default \u001B[38;5;241m=\u001B[39m \u001B[38;5;28;43mself\u001B[39;49m\u001B[38;5;241;43m.\u001B[39;49m\u001B[43mconverter\u001B[49m\u001B[38;5;241;43m.\u001B[39;49m\u001B[43mdefault_units\u001B[49m\u001B[43m(\u001B[49m\u001B[43mdata\u001B[49m\u001B[43m,\u001B[49m\u001B[43m \u001B[49m\u001B[38;5;28;43mself\u001B[39;49m\u001B[43m)\u001B[49m\n\u001B[0;32m   1450\u001B[0m \u001B[38;5;28;01mif\u001B[39;00m default \u001B[38;5;129;01mis\u001B[39;00m \u001B[38;5;129;01mnot\u001B[39;00m \u001B[38;5;28;01mNone\u001B[39;00m \u001B[38;5;129;01mand\u001B[39;00m \u001B[38;5;28mself\u001B[39m\u001B[38;5;241m.\u001B[39munits \u001B[38;5;129;01mis\u001B[39;00m \u001B[38;5;28;01mNone\u001B[39;00m:\n\u001B[0;32m   1451\u001B[0m     \u001B[38;5;28mself\u001B[39m\u001B[38;5;241m.\u001B[39mset_units(default)\n",
      "File \u001B[1;32m~\\anaconda3\\envs\\spaicer\\lib\\site-packages\\matplotlib\\category.py:116\u001B[0m, in \u001B[0;36mStrCategoryConverter.default_units\u001B[1;34m(data, axis)\u001B[0m\n\u001B[0;32m    114\u001B[0m \u001B[38;5;66;03m# the conversion call stack is default_units -> axis_info -> convert\u001B[39;00m\n\u001B[0;32m    115\u001B[0m \u001B[38;5;28;01mif\u001B[39;00m axis\u001B[38;5;241m.\u001B[39munits \u001B[38;5;129;01mis\u001B[39;00m \u001B[38;5;28;01mNone\u001B[39;00m:\n\u001B[1;32m--> 116\u001B[0m     axis\u001B[38;5;241m.\u001B[39mset_units(\u001B[43mUnitData\u001B[49m\u001B[43m(\u001B[49m\u001B[43mdata\u001B[49m\u001B[43m)\u001B[49m)\n\u001B[0;32m    117\u001B[0m \u001B[38;5;28;01melse\u001B[39;00m:\n\u001B[0;32m    118\u001B[0m     axis\u001B[38;5;241m.\u001B[39munits\u001B[38;5;241m.\u001B[39mupdate(data)\n",
      "File \u001B[1;32m~\\anaconda3\\envs\\spaicer\\lib\\site-packages\\matplotlib\\category.py:192\u001B[0m, in \u001B[0;36mUnitData.__init__\u001B[1;34m(self, data)\u001B[0m\n\u001B[0;32m    190\u001B[0m \u001B[38;5;28mself\u001B[39m\u001B[38;5;241m.\u001B[39m_counter \u001B[38;5;241m=\u001B[39m itertools\u001B[38;5;241m.\u001B[39mcount()\n\u001B[0;32m    191\u001B[0m \u001B[38;5;28;01mif\u001B[39;00m data \u001B[38;5;129;01mis\u001B[39;00m \u001B[38;5;129;01mnot\u001B[39;00m \u001B[38;5;28;01mNone\u001B[39;00m:\n\u001B[1;32m--> 192\u001B[0m     \u001B[38;5;28;43mself\u001B[39;49m\u001B[38;5;241;43m.\u001B[39;49m\u001B[43mupdate\u001B[49m\u001B[43m(\u001B[49m\u001B[43mdata\u001B[49m\u001B[43m)\u001B[49m\n",
      "File \u001B[1;32m~\\anaconda3\\envs\\spaicer\\lib\\site-packages\\matplotlib\\category.py:225\u001B[0m, in \u001B[0;36mUnitData.update\u001B[1;34m(self, data)\u001B[0m\n\u001B[0;32m    223\u001B[0m \u001B[38;5;66;03m# check if convertible to number:\u001B[39;00m\n\u001B[0;32m    224\u001B[0m convertible \u001B[38;5;241m=\u001B[39m \u001B[38;5;28;01mTrue\u001B[39;00m\n\u001B[1;32m--> 225\u001B[0m \u001B[38;5;28;01mfor\u001B[39;00m val \u001B[38;5;129;01min\u001B[39;00m \u001B[43mOrderedDict\u001B[49m\u001B[38;5;241;43m.\u001B[39;49m\u001B[43mfromkeys\u001B[49m\u001B[43m(\u001B[49m\u001B[43mdata\u001B[49m\u001B[43m)\u001B[49m:\n\u001B[0;32m    226\u001B[0m     \u001B[38;5;66;03m# OrderedDict just iterates over unique values in data.\u001B[39;00m\n\u001B[0;32m    227\u001B[0m     _api\u001B[38;5;241m.\u001B[39mcheck_isinstance((\u001B[38;5;28mstr\u001B[39m, \u001B[38;5;28mbytes\u001B[39m), value\u001B[38;5;241m=\u001B[39mval)\n\u001B[0;32m    228\u001B[0m     \u001B[38;5;28;01mif\u001B[39;00m convertible:\n\u001B[0;32m    229\u001B[0m         \u001B[38;5;66;03m# this will only be called so long as convertible is True.\u001B[39;00m\n",
      "\u001B[1;31mTypeError\u001B[0m: unhashable type: 'numpy.ndarray'"
     ]
    },
    {
     "data": {
      "text/plain": "<Figure size 432x288 with 1 Axes>",
      "image/png": "[encoded data removed]"
     },
     "metadata": {
      "needs_background": "light"
     },
     "output_type": "display_data"
    }
   ]
  },
  {
   "cell_type": "code",
   "source": [
    "res= output_result_2D_gender(votes, W, genders, 10, 10)"
   ],
   "metadata": {
    "id": "tEY8mc-dquF6"
   },
   "execution_count": 37,
   "outputs": []
  },
  {
   "cell_type": "code",
   "source": [
    "Z = [[[] for j in range(0,10)] for i in range(0, 10)]\n",
    "\n",
    "\n",
    "for i in range(0,10):\n",
    "  for j in range(0,10):\n",
    "    Z[i][j] = color_mix(res[i][j])\n"
   ],
   "metadata": {
    "id": "TGt6BbakpHPY"
   },
   "execution_count": 38,
   "outputs": [
    {
     "ename": "TypeError",
     "evalue": "'NoneType' object is not subscriptable",
     "output_type": "error",
     "traceback": [
      "\u001B[1;31m---------------------------------------------------------------------------\u001B[0m",
      "\u001B[1;31mTypeError\u001B[0m                                 Traceback (most recent call last)",
      "Input \u001B[1;32mIn [38]\u001B[0m, in \u001B[0;36m<cell line: 4>\u001B[1;34m()\u001B[0m\n\u001B[0;32m      4\u001B[0m \u001B[38;5;28;01mfor\u001B[39;00m i \u001B[38;5;129;01min\u001B[39;00m \u001B[38;5;28mrange\u001B[39m(\u001B[38;5;241m0\u001B[39m,\u001B[38;5;241m10\u001B[39m):\n\u001B[0;32m      5\u001B[0m   \u001B[38;5;28;01mfor\u001B[39;00m j \u001B[38;5;129;01min\u001B[39;00m \u001B[38;5;28mrange\u001B[39m(\u001B[38;5;241m0\u001B[39m,\u001B[38;5;241m10\u001B[39m):\n\u001B[1;32m----> 6\u001B[0m     Z[i][j] \u001B[38;5;241m=\u001B[39m \u001B[43mcolor_mix\u001B[49m\u001B[43m(\u001B[49m\u001B[43mres\u001B[49m\u001B[43m[\u001B[49m\u001B[43mi\u001B[49m\u001B[43m]\u001B[49m\u001B[43m[\u001B[49m\u001B[43mj\u001B[49m\u001B[43m]\u001B[49m\u001B[43m)\u001B[49m\n",
      "Input \u001B[1;32mIn [18]\u001B[0m, in \u001B[0;36mcolor_mix\u001B[1;34m(color_list)\u001B[0m\n\u001B[0;32m     12\u001B[0m   cell_population \u001B[38;5;241m+\u001B[39m\u001B[38;5;241m=\u001B[39m color[\u001B[38;5;241m1\u001B[39m]\n\u001B[0;32m     15\u001B[0m first_color \u001B[38;5;241m=\u001B[39m color_list[\u001B[38;5;241m0\u001B[39m]\n\u001B[1;32m---> 16\u001B[0m mix \u001B[38;5;241m=\u001B[39m [\u001B[43mfirst_color\u001B[49m\u001B[43m[\u001B[49m\u001B[38;5;241;43m0\u001B[39;49m\u001B[43m]\u001B[49m\u001B[43m[\u001B[49m\u001B[38;5;241;43m0\u001B[39;49m\u001B[43m]\u001B[49m, first_color[\u001B[38;5;241m0\u001B[39m][\u001B[38;5;241m1\u001B[39m], first_color[\u001B[38;5;241m0\u001B[39m][\u001B[38;5;241m2\u001B[39m], first_color[\u001B[38;5;241m0\u001B[39m][\u001B[38;5;241m1\u001B[39m]\u001B[38;5;241m/\u001B[39mcell_population]\n\u001B[0;32m     17\u001B[0m mix_R \u001B[38;5;241m=\u001B[39m \u001B[38;5;241m1\u001B[39m\n\u001B[0;32m     18\u001B[0m \u001B[38;5;28;01mif\u001B[39;00m \u001B[38;5;28mlen\u001B[39m(color_list) \u001B[38;5;241m>\u001B[39m \u001B[38;5;241m1\u001B[39m :\n",
      "\u001B[1;31mTypeError\u001B[0m: 'NoneType' object is not subscriptable"
     ]
    }
   ]
  },
  {
   "cell_type": "code",
   "source": [
    "plt.imshow(Z, interpolation='nearest')\n",
    "plt.show()"
   ],
   "metadata": {
    "id": "cLL_vw4dqsab"
   },
   "execution_count": 39,
   "outputs": [
    {
     "ename": "TypeError",
     "evalue": "Invalid shape (10, 10, 0) for image data",
     "output_type": "error",
     "traceback": [
      "\u001B[1;31m---------------------------------------------------------------------------\u001B[0m",
      "\u001B[1;31mTypeError\u001B[0m                                 Traceback (most recent call last)",
      "Input \u001B[1;32mIn [39]\u001B[0m, in \u001B[0;36m<cell line: 1>\u001B[1;34m()\u001B[0m\n\u001B[1;32m----> 1\u001B[0m \u001B[43mplt\u001B[49m\u001B[38;5;241;43m.\u001B[39;49m\u001B[43mimshow\u001B[49m\u001B[43m(\u001B[49m\u001B[43mZ\u001B[49m\u001B[43m,\u001B[49m\u001B[43m \u001B[49m\u001B[43minterpolation\u001B[49m\u001B[38;5;241;43m=\u001B[39;49m\u001B[38;5;124;43m'\u001B[39;49m\u001B[38;5;124;43mnearest\u001B[39;49m\u001B[38;5;124;43m'\u001B[39;49m\u001B[43m)\u001B[49m\n\u001B[0;32m      2\u001B[0m plt\u001B[38;5;241m.\u001B[39mshow()\n",
      "File \u001B[1;32m~\\anaconda3\\envs\\spaicer\\lib\\site-packages\\matplotlib\\_api\\deprecation.py:456\u001B[0m, in \u001B[0;36mmake_keyword_only.<locals>.wrapper\u001B[1;34m(*args, **kwargs)\u001B[0m\n\u001B[0;32m    450\u001B[0m \u001B[38;5;28;01mif\u001B[39;00m \u001B[38;5;28mlen\u001B[39m(args) \u001B[38;5;241m>\u001B[39m name_idx:\n\u001B[0;32m    451\u001B[0m     warn_deprecated(\n\u001B[0;32m    452\u001B[0m         since, message\u001B[38;5;241m=\u001B[39m\u001B[38;5;124m\"\u001B[39m\u001B[38;5;124mPassing the \u001B[39m\u001B[38;5;132;01m%(name)s\u001B[39;00m\u001B[38;5;124m \u001B[39m\u001B[38;5;132;01m%(obj_type)s\u001B[39;00m\u001B[38;5;124m \u001B[39m\u001B[38;5;124m\"\u001B[39m\n\u001B[0;32m    453\u001B[0m         \u001B[38;5;124m\"\u001B[39m\u001B[38;5;124mpositionally is deprecated since Matplotlib \u001B[39m\u001B[38;5;132;01m%(since)s\u001B[39;00m\u001B[38;5;124m; the \u001B[39m\u001B[38;5;124m\"\u001B[39m\n\u001B[0;32m    454\u001B[0m         \u001B[38;5;124m\"\u001B[39m\u001B[38;5;124mparameter will become keyword-only \u001B[39m\u001B[38;5;132;01m%(removal)s\u001B[39;00m\u001B[38;5;124m.\u001B[39m\u001B[38;5;124m\"\u001B[39m,\n\u001B[0;32m    455\u001B[0m         name\u001B[38;5;241m=\u001B[39mname, obj_type\u001B[38;5;241m=\u001B[39m\u001B[38;5;124mf\u001B[39m\u001B[38;5;124m\"\u001B[39m\u001B[38;5;124mparameter of \u001B[39m\u001B[38;5;132;01m{\u001B[39;00mfunc\u001B[38;5;241m.\u001B[39m\u001B[38;5;18m__name__\u001B[39m\u001B[38;5;132;01m}\u001B[39;00m\u001B[38;5;124m()\u001B[39m\u001B[38;5;124m\"\u001B[39m)\n\u001B[1;32m--> 456\u001B[0m \u001B[38;5;28;01mreturn\u001B[39;00m func(\u001B[38;5;241m*\u001B[39margs, \u001B[38;5;241m*\u001B[39m\u001B[38;5;241m*\u001B[39mkwargs)\n",
      "File \u001B[1;32m~\\anaconda3\\envs\\spaicer\\lib\\site-packages\\matplotlib\\pyplot.py:2640\u001B[0m, in \u001B[0;36mimshow\u001B[1;34m(X, cmap, norm, aspect, interpolation, alpha, vmin, vmax, origin, extent, interpolation_stage, filternorm, filterrad, resample, url, data, **kwargs)\u001B[0m\n\u001B[0;32m   2634\u001B[0m \u001B[38;5;129m@_copy_docstring_and_deprecators\u001B[39m(Axes\u001B[38;5;241m.\u001B[39mimshow)\n\u001B[0;32m   2635\u001B[0m \u001B[38;5;28;01mdef\u001B[39;00m \u001B[38;5;21mimshow\u001B[39m(\n\u001B[0;32m   2636\u001B[0m         X, cmap\u001B[38;5;241m=\u001B[39m\u001B[38;5;28;01mNone\u001B[39;00m, norm\u001B[38;5;241m=\u001B[39m\u001B[38;5;28;01mNone\u001B[39;00m, aspect\u001B[38;5;241m=\u001B[39m\u001B[38;5;28;01mNone\u001B[39;00m, interpolation\u001B[38;5;241m=\u001B[39m\u001B[38;5;28;01mNone\u001B[39;00m,\n\u001B[0;32m   2637\u001B[0m         alpha\u001B[38;5;241m=\u001B[39m\u001B[38;5;28;01mNone\u001B[39;00m, vmin\u001B[38;5;241m=\u001B[39m\u001B[38;5;28;01mNone\u001B[39;00m, vmax\u001B[38;5;241m=\u001B[39m\u001B[38;5;28;01mNone\u001B[39;00m, origin\u001B[38;5;241m=\u001B[39m\u001B[38;5;28;01mNone\u001B[39;00m, extent\u001B[38;5;241m=\u001B[39m\u001B[38;5;28;01mNone\u001B[39;00m, \u001B[38;5;241m*\u001B[39m,\n\u001B[0;32m   2638\u001B[0m         interpolation_stage\u001B[38;5;241m=\u001B[39m\u001B[38;5;28;01mNone\u001B[39;00m, filternorm\u001B[38;5;241m=\u001B[39m\u001B[38;5;28;01mTrue\u001B[39;00m, filterrad\u001B[38;5;241m=\u001B[39m\u001B[38;5;241m4.0\u001B[39m,\n\u001B[0;32m   2639\u001B[0m         resample\u001B[38;5;241m=\u001B[39m\u001B[38;5;28;01mNone\u001B[39;00m, url\u001B[38;5;241m=\u001B[39m\u001B[38;5;28;01mNone\u001B[39;00m, data\u001B[38;5;241m=\u001B[39m\u001B[38;5;28;01mNone\u001B[39;00m, \u001B[38;5;241m*\u001B[39m\u001B[38;5;241m*\u001B[39mkwargs):\n\u001B[1;32m-> 2640\u001B[0m     __ret \u001B[38;5;241m=\u001B[39m gca()\u001B[38;5;241m.\u001B[39mimshow(\n\u001B[0;32m   2641\u001B[0m         X, cmap\u001B[38;5;241m=\u001B[39mcmap, norm\u001B[38;5;241m=\u001B[39mnorm, aspect\u001B[38;5;241m=\u001B[39maspect,\n\u001B[0;32m   2642\u001B[0m         interpolation\u001B[38;5;241m=\u001B[39minterpolation, alpha\u001B[38;5;241m=\u001B[39malpha, vmin\u001B[38;5;241m=\u001B[39mvmin,\n\u001B[0;32m   2643\u001B[0m         vmax\u001B[38;5;241m=\u001B[39mvmax, origin\u001B[38;5;241m=\u001B[39morigin, extent\u001B[38;5;241m=\u001B[39mextent,\n\u001B[0;32m   2644\u001B[0m         interpolation_stage\u001B[38;5;241m=\u001B[39minterpolation_stage,\n\u001B[0;32m   2645\u001B[0m         filternorm\u001B[38;5;241m=\u001B[39mfilternorm, filterrad\u001B[38;5;241m=\u001B[39mfilterrad, resample\u001B[38;5;241m=\u001B[39mresample,\n\u001B[0;32m   2646\u001B[0m         url\u001B[38;5;241m=\u001B[39murl, \u001B[38;5;241m*\u001B[39m\u001B[38;5;241m*\u001B[39m({\u001B[38;5;124m\"\u001B[39m\u001B[38;5;124mdata\u001B[39m\u001B[38;5;124m\"\u001B[39m: data} \u001B[38;5;28;01mif\u001B[39;00m data \u001B[38;5;129;01mis\u001B[39;00m \u001B[38;5;129;01mnot\u001B[39;00m \u001B[38;5;28;01mNone\u001B[39;00m \u001B[38;5;28;01melse\u001B[39;00m {}),\n\u001B[0;32m   2647\u001B[0m         \u001B[38;5;241m*\u001B[39m\u001B[38;5;241m*\u001B[39mkwargs)\n\u001B[0;32m   2648\u001B[0m     sci(__ret)\n\u001B[0;32m   2649\u001B[0m     \u001B[38;5;28;01mreturn\u001B[39;00m __ret\n",
      "File \u001B[1;32m~\\anaconda3\\envs\\spaicer\\lib\\site-packages\\matplotlib\\_api\\deprecation.py:456\u001B[0m, in \u001B[0;36mmake_keyword_only.<locals>.wrapper\u001B[1;34m(*args, **kwargs)\u001B[0m\n\u001B[0;32m    450\u001B[0m \u001B[38;5;28;01mif\u001B[39;00m \u001B[38;5;28mlen\u001B[39m(args) \u001B[38;5;241m>\u001B[39m name_idx:\n\u001B[0;32m    451\u001B[0m     warn_deprecated(\n\u001B[0;32m    452\u001B[0m         since, message\u001B[38;5;241m=\u001B[39m\u001B[38;5;124m\"\u001B[39m\u001B[38;5;124mPassing the \u001B[39m\u001B[38;5;132;01m%(name)s\u001B[39;00m\u001B[38;5;124m \u001B[39m\u001B[38;5;132;01m%(obj_type)s\u001B[39;00m\u001B[38;5;124m \u001B[39m\u001B[38;5;124m\"\u001B[39m\n\u001B[0;32m    453\u001B[0m         \u001B[38;5;124m\"\u001B[39m\u001B[38;5;124mpositionally is deprecated since Matplotlib \u001B[39m\u001B[38;5;132;01m%(since)s\u001B[39;00m\u001B[38;5;124m; the \u001B[39m\u001B[38;5;124m\"\u001B[39m\n\u001B[0;32m    454\u001B[0m         \u001B[38;5;124m\"\u001B[39m\u001B[38;5;124mparameter will become keyword-only \u001B[39m\u001B[38;5;132;01m%(removal)s\u001B[39;00m\u001B[38;5;124m.\u001B[39m\u001B[38;5;124m\"\u001B[39m,\n\u001B[0;32m    455\u001B[0m         name\u001B[38;5;241m=\u001B[39mname, obj_type\u001B[38;5;241m=\u001B[39m\u001B[38;5;124mf\u001B[39m\u001B[38;5;124m\"\u001B[39m\u001B[38;5;124mparameter of \u001B[39m\u001B[38;5;132;01m{\u001B[39;00mfunc\u001B[38;5;241m.\u001B[39m\u001B[38;5;18m__name__\u001B[39m\u001B[38;5;132;01m}\u001B[39;00m\u001B[38;5;124m()\u001B[39m\u001B[38;5;124m\"\u001B[39m)\n\u001B[1;32m--> 456\u001B[0m \u001B[38;5;28;01mreturn\u001B[39;00m func(\u001B[38;5;241m*\u001B[39margs, \u001B[38;5;241m*\u001B[39m\u001B[38;5;241m*\u001B[39mkwargs)\n",
      "File \u001B[1;32m~\\anaconda3\\envs\\spaicer\\lib\\site-packages\\matplotlib\\__init__.py:1412\u001B[0m, in \u001B[0;36m_preprocess_data.<locals>.inner\u001B[1;34m(ax, data, *args, **kwargs)\u001B[0m\n\u001B[0;32m   1409\u001B[0m \u001B[38;5;129m@functools\u001B[39m\u001B[38;5;241m.\u001B[39mwraps(func)\n\u001B[0;32m   1410\u001B[0m \u001B[38;5;28;01mdef\u001B[39;00m \u001B[38;5;21minner\u001B[39m(ax, \u001B[38;5;241m*\u001B[39margs, data\u001B[38;5;241m=\u001B[39m\u001B[38;5;28;01mNone\u001B[39;00m, \u001B[38;5;241m*\u001B[39m\u001B[38;5;241m*\u001B[39mkwargs):\n\u001B[0;32m   1411\u001B[0m     \u001B[38;5;28;01mif\u001B[39;00m data \u001B[38;5;129;01mis\u001B[39;00m \u001B[38;5;28;01mNone\u001B[39;00m:\n\u001B[1;32m-> 1412\u001B[0m         \u001B[38;5;28;01mreturn\u001B[39;00m func(ax, \u001B[38;5;241m*\u001B[39m\u001B[38;5;28mmap\u001B[39m(sanitize_sequence, args), \u001B[38;5;241m*\u001B[39m\u001B[38;5;241m*\u001B[39mkwargs)\n\u001B[0;32m   1414\u001B[0m     bound \u001B[38;5;241m=\u001B[39m new_sig\u001B[38;5;241m.\u001B[39mbind(ax, \u001B[38;5;241m*\u001B[39margs, \u001B[38;5;241m*\u001B[39m\u001B[38;5;241m*\u001B[39mkwargs)\n\u001B[0;32m   1415\u001B[0m     auto_label \u001B[38;5;241m=\u001B[39m (bound\u001B[38;5;241m.\u001B[39marguments\u001B[38;5;241m.\u001B[39mget(label_namer)\n\u001B[0;32m   1416\u001B[0m                   \u001B[38;5;129;01mor\u001B[39;00m bound\u001B[38;5;241m.\u001B[39mkwargs\u001B[38;5;241m.\u001B[39mget(label_namer))\n",
      "File \u001B[1;32m~\\anaconda3\\envs\\spaicer\\lib\\site-packages\\matplotlib\\axes\\_axes.py:5488\u001B[0m, in \u001B[0;36mAxes.imshow\u001B[1;34m(self, X, cmap, norm, aspect, interpolation, alpha, vmin, vmax, origin, extent, interpolation_stage, filternorm, filterrad, resample, url, **kwargs)\u001B[0m\n\u001B[0;32m   5481\u001B[0m \u001B[38;5;28mself\u001B[39m\u001B[38;5;241m.\u001B[39mset_aspect(aspect)\n\u001B[0;32m   5482\u001B[0m im \u001B[38;5;241m=\u001B[39m mimage\u001B[38;5;241m.\u001B[39mAxesImage(\u001B[38;5;28mself\u001B[39m, cmap, norm, interpolation,\n\u001B[0;32m   5483\u001B[0m                       origin, extent, filternorm\u001B[38;5;241m=\u001B[39mfilternorm,\n\u001B[0;32m   5484\u001B[0m                       filterrad\u001B[38;5;241m=\u001B[39mfilterrad, resample\u001B[38;5;241m=\u001B[39mresample,\n\u001B[0;32m   5485\u001B[0m                       interpolation_stage\u001B[38;5;241m=\u001B[39minterpolation_stage,\n\u001B[0;32m   5486\u001B[0m                       \u001B[38;5;241m*\u001B[39m\u001B[38;5;241m*\u001B[39mkwargs)\n\u001B[1;32m-> 5488\u001B[0m \u001B[43mim\u001B[49m\u001B[38;5;241;43m.\u001B[39;49m\u001B[43mset_data\u001B[49m\u001B[43m(\u001B[49m\u001B[43mX\u001B[49m\u001B[43m)\u001B[49m\n\u001B[0;32m   5489\u001B[0m im\u001B[38;5;241m.\u001B[39mset_alpha(alpha)\n\u001B[0;32m   5490\u001B[0m \u001B[38;5;28;01mif\u001B[39;00m im\u001B[38;5;241m.\u001B[39mget_clip_path() \u001B[38;5;129;01mis\u001B[39;00m \u001B[38;5;28;01mNone\u001B[39;00m:\n\u001B[0;32m   5491\u001B[0m     \u001B[38;5;66;03m# image does not already have clipping set, clip to axes patch\u001B[39;00m\n",
      "File \u001B[1;32m~\\anaconda3\\envs\\spaicer\\lib\\site-packages\\matplotlib\\image.py:715\u001B[0m, in \u001B[0;36m_ImageBase.set_data\u001B[1;34m(self, A)\u001B[0m\n\u001B[0;32m    711\u001B[0m     \u001B[38;5;28mself\u001B[39m\u001B[38;5;241m.\u001B[39m_A \u001B[38;5;241m=\u001B[39m \u001B[38;5;28mself\u001B[39m\u001B[38;5;241m.\u001B[39m_A[:, :, \u001B[38;5;241m0\u001B[39m]\n\u001B[0;32m    713\u001B[0m \u001B[38;5;28;01mif\u001B[39;00m \u001B[38;5;129;01mnot\u001B[39;00m (\u001B[38;5;28mself\u001B[39m\u001B[38;5;241m.\u001B[39m_A\u001B[38;5;241m.\u001B[39mndim \u001B[38;5;241m==\u001B[39m \u001B[38;5;241m2\u001B[39m\n\u001B[0;32m    714\u001B[0m         \u001B[38;5;129;01mor\u001B[39;00m \u001B[38;5;28mself\u001B[39m\u001B[38;5;241m.\u001B[39m_A\u001B[38;5;241m.\u001B[39mndim \u001B[38;5;241m==\u001B[39m \u001B[38;5;241m3\u001B[39m \u001B[38;5;129;01mand\u001B[39;00m \u001B[38;5;28mself\u001B[39m\u001B[38;5;241m.\u001B[39m_A\u001B[38;5;241m.\u001B[39mshape[\u001B[38;5;241m-\u001B[39m\u001B[38;5;241m1\u001B[39m] \u001B[38;5;129;01min\u001B[39;00m [\u001B[38;5;241m3\u001B[39m, \u001B[38;5;241m4\u001B[39m]):\n\u001B[1;32m--> 715\u001B[0m     \u001B[38;5;28;01mraise\u001B[39;00m \u001B[38;5;167;01mTypeError\u001B[39;00m(\u001B[38;5;124m\"\u001B[39m\u001B[38;5;124mInvalid shape \u001B[39m\u001B[38;5;132;01m{}\u001B[39;00m\u001B[38;5;124m for image data\u001B[39m\u001B[38;5;124m\"\u001B[39m\n\u001B[0;32m    716\u001B[0m                     \u001B[38;5;241m.\u001B[39mformat(\u001B[38;5;28mself\u001B[39m\u001B[38;5;241m.\u001B[39m_A\u001B[38;5;241m.\u001B[39mshape))\n\u001B[0;32m    718\u001B[0m \u001B[38;5;28;01mif\u001B[39;00m \u001B[38;5;28mself\u001B[39m\u001B[38;5;241m.\u001B[39m_A\u001B[38;5;241m.\u001B[39mndim \u001B[38;5;241m==\u001B[39m \u001B[38;5;241m3\u001B[39m:\n\u001B[0;32m    719\u001B[0m     \u001B[38;5;66;03m# If the input data has values outside the valid range (after\u001B[39;00m\n\u001B[0;32m    720\u001B[0m     \u001B[38;5;66;03m# normalisation), we issue a warning and then clip X to the bounds\u001B[39;00m\n\u001B[0;32m    721\u001B[0m     \u001B[38;5;66;03m# - otherwise casting wraps extreme values, hiding outliers and\u001B[39;00m\n\u001B[0;32m    722\u001B[0m     \u001B[38;5;66;03m# making reliable interpretation impossible.\u001B[39;00m\n\u001B[0;32m    723\u001B[0m     high \u001B[38;5;241m=\u001B[39m \u001B[38;5;241m255\u001B[39m \u001B[38;5;28;01mif\u001B[39;00m np\u001B[38;5;241m.\u001B[39missubdtype(\u001B[38;5;28mself\u001B[39m\u001B[38;5;241m.\u001B[39m_A\u001B[38;5;241m.\u001B[39mdtype, np\u001B[38;5;241m.\u001B[39minteger) \u001B[38;5;28;01melse\u001B[39;00m \u001B[38;5;241m1\u001B[39m\n",
      "\u001B[1;31mTypeError\u001B[0m: Invalid shape (10, 10, 0) for image data"
     ]
    },
    {
     "data": {
      "text/plain": "<Figure size 432x288 with 1 Axes>",
      "image/png": "[encoded data removed]"
     },
     "metadata": {
      "needs_background": "light"
     },
     "output_type": "display_data"
    }
   ]
  },
  {
   "cell_type": "code",
   "execution_count": null,
   "outputs": [],
   "source": [],
   "metadata": {
    "collapsed": false
   }
  }
 ]
}
